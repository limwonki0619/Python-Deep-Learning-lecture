{
 "cells": [
  {
   "cell_type": "markdown",
   "metadata": {},
   "source": [
    "## **다중선형회귀**"
   ]
  },
  {
   "cell_type": "code",
   "execution_count": 5,
   "metadata": {},
   "outputs": [],
   "source": [
    "import tensorflow as tf\n",
    "\n",
    "data = [[2, 0, 81],[4, 4, 93], [6, 2 ,91], [8, 3, 97]]\n",
    "\n",
    "x1 = [x_row1[0] for x_row1 in data]\n",
    "x2 = [x_row2[1] for x_row2 in data]\n",
    "\n",
    "y_data = [y_row[2] for y_row in data]"
   ]
  },
  {
   "cell_type": "code",
   "execution_count": 6,
   "metadata": {},
   "outputs": [
    {
     "data": {
      "text/plain": [
       "([2, 4, 6, 8], [0, 4, 2, 3])"
      ]
     },
     "execution_count": 6,
     "metadata": {},
     "output_type": "execute_result"
    }
   ],
   "source": [
    "x1, x2"
   ]
  },
  {
   "cell_type": "code",
   "execution_count": 10,
   "metadata": {},
   "outputs": [],
   "source": [
    "# 기울기 a1, a2와 절편 b의 값을 임의로 정한다.\n",
    "# 단, 기울기의 범위는 0~10 사이이며, y 절편은 0~100사이에서 변하게 한다. \n",
    "a1 = tf.Variable(tf.random_uniform([1], 0, 10, dtype=tf.float64, seed=0))\n",
    "a2 = tf.Variable(tf.random_uniform([1], 0, 10, dtype=tf.float64, seed=0))\n",
    "b = tf.Variable(tf.random_uniform([1], 0, 100, dtype=tf.float64, seed=0))"
   ]
  },
  {
   "cell_type": "code",
   "execution_count": 11,
   "metadata": {},
   "outputs": [],
   "source": [
    "# y에 대한 방정식 y = a1x1 + a2x2 + b \n",
    "y = a1 * x1 + a2 * x2 + b"
   ]
  },
  {
   "cell_type": "code",
   "execution_count": 12,
   "metadata": {},
   "outputs": [],
   "source": [
    "# 텐서플로 RMSE 함수 \n",
    "rmse = tf.sqrt(tf.reduce_mean(tf.square(y - y_data)))"
   ]
  },
  {
   "cell_type": "code",
   "execution_count": 14,
   "metadata": {},
   "outputs": [],
   "source": [
    "# 학습률 값\n",
    "learning_rate = 0.1"
   ]
  },
  {
   "cell_type": "code",
   "execution_count": 15,
   "metadata": {},
   "outputs": [],
   "source": [
    "# RMSE 값을 최소로 하는 값 찾기\n",
    "gradient_decent = tf.train.GradientDescentOptimizer(learning_rate).minimize(rmse)"
   ]
  },
  {
   "cell_type": "code",
   "execution_count": 21,
   "metadata": {},
   "outputs": [
    {
     "name": "stdout",
     "output_type": "stream",
     "text": [
      "Epoch: 0, RMSE = 132.9009, 기울기 a1 = 7.5408, 기울기 a1 = 7.8256, y 절편 b = 80.5917\n",
      "Epoch: 100, RMSE = 30.0484, 기울기 a1 = -10.7712, 기울기 a1 = -1.6154, y 절편 b = 74.2312\n",
      "Epoch: 200, RMSE = 28.3958, 기울기 a1 = -9.8457, 기울기 a1 = -2.2043, y 절편 b = 70.3179\n",
      "Epoch: 300, RMSE = 26.7807, 기울기 a1 = -9.0398, 기울기 a1 = -2.5238, y 절편 b = 66.3943\n",
      "Epoch: 400, RMSE = 25.1826, 기울기 a1 = -8.3173, 기울기 a1 = -2.6574, y 절편 b = 62.4650\n",
      "Epoch: 500, RMSE = 23.5918, 기울기 a1 = -7.6509, 기울기 a1 = -2.6659, y 절편 b = 58.5326\n",
      "Epoch: 600, RMSE = 22.0038, 기울기 a1 = -7.0215, 기울기 a1 = -2.5925, y 절편 b = 54.5985\n",
      "Epoch: 700, RMSE = 20.4170, 기울기 a1 = -6.4156, 기울기 a1 = -2.4669, y 절편 b = 50.6634\n",
      "Epoch: 800, RMSE = 18.8306, 기울기 a1 = -5.8240, 기울기 a1 = -2.3093, y 절편 b = 46.7277\n",
      "Epoch: 900, RMSE = 17.2443, 기울기 a1 = -5.2411, 기울기 a1 = -2.1328, y 절편 b = 42.7917\n",
      "Epoch: 1000, RMSE = 15.6580, 기울기 a1 = -4.6629, 기울기 a1 = -1.9456, y 절편 b = 38.8555\n",
      "Epoch: 1100, RMSE = 14.0717, 기울기 a1 = -4.0874, 기울기 a1 = -1.7527, y 절편 b = 34.9193\n",
      "Epoch: 1200, RMSE = 12.4855, 기울기 a1 = -3.5131, 기울기 a1 = -1.5569, y 절편 b = 30.9830\n",
      "Epoch: 1300, RMSE = 10.8992, 기울기 a1 = -2.9394, 기울기 a1 = -1.3597, y 절편 b = 27.0467\n",
      "Epoch: 1400, RMSE = 9.3130, 기울기 a1 = -2.3660, 기울기 a1 = -1.1621, y 절편 b = 23.1104\n",
      "Epoch: 1500, RMSE = 7.7267, 기울기 a1 = -1.7926, 기울기 a1 = -0.9642, y 절편 b = 19.1740\n",
      "Epoch: 1600, RMSE = 6.1405, 기울기 a1 = -1.2193, 기울기 a1 = -0.7663, y 절편 b = 15.2377\n",
      "Epoch: 1700, RMSE = 4.5542, 기울기 a1 = -0.6460, 기울기 a1 = -0.5683, y 절편 b = 11.3014\n",
      "Epoch: 1800, RMSE = 2.9680, 기울기 a1 = -0.0727, 기울기 a1 = -0.3704, y 절편 b = 7.3650\n",
      "Epoch: 1900, RMSE = 1.3817, 기울기 a1 = 0.5006, 기울기 a1 = -0.1724, y 절편 b = 3.4287\n",
      "Epoch: 2000, RMSE = 1.8364, 기울기 a1 = 1.0905, 기울기 a1 = 0.0598, y 절편 b = 1.2311\n"
     ]
    }
   ],
   "source": [
    "# 텐서플로를 이용한 학습\n",
    "with tf.Session() as sess:\n",
    "    # 변수 초기화\n",
    "    sess.run(tf.global_variables_initializer())\n",
    "    # 2001번 실행(0번 째를 포함하므로)\n",
    "    for step in range(2001):\n",
    "        sess.run(gradient_decent)\n",
    "        # 100번마다 결과 출력\n",
    "        if step % 100 == 0:\n",
    "            print(\"Epoch: %.f, RMSE = %.04f, 기울기 a1 = %.4f, 기울기 a1 = %.4f, y 절편 b = %.4f\" % (step,sess.run(rmse),sess.run(a1),sess.run(a2),sess.run(b)))"
   ]
  },
  {
   "cell_type": "markdown",
   "metadata": {},
   "source": [
    "## **참 거짓 판단 장치 : 로지스틱 회귀**"
   ]
  },
  {
   "cell_type": "code",
   "execution_count": 22,
   "metadata": {},
   "outputs": [],
   "source": [
    "import numpy as np\n",
    "import matplotlib.pyplot as plt\n",
    "%matplotlib inline"
   ]
  },
  {
   "cell_type": "code",
   "execution_count": 23,
   "metadata": {},
   "outputs": [],
   "source": [
    "def sigmoid(x):\n",
    "    return 1/(1 + np.exp(-x))"
   ]
  },
  {
   "cell_type": "code",
   "execution_count": 26,
   "metadata": {},
   "outputs": [],
   "source": [
    "x = np.linspace(-5, 5, 1001)"
   ]
  },
  {
   "cell_type": "code",
   "execution_count": 27,
   "metadata": {},
   "outputs": [],
   "source": [
    "sig_y = sigmoid(x)"
   ]
  },
  {
   "cell_type": "code",
   "execution_count": 32,
   "metadata": {},
   "outputs": [
    {
     "data": {
      "image/png": "[encoded data removed]",
      "text/plain": [
       "<Figure size 432x288 with 1 Axes>"
      ]
     },
     "metadata": {
      "needs_background": "light"
     },
     "output_type": "display_data"
    }
   ],
   "source": [
    "plt.plot(x, sig_y)\n",
    "plt.grid()\n",
    "plt.show()"
   ]
  },
  {
   "cell_type": "code",
   "execution_count": 38,
   "metadata": {},
   "outputs": [],
   "source": [
    "def sig5(x):\n",
    "    return 1/(1+np.exp(-5*x))\n",
    "\n",
    "def sig05(x):\n",
    "    return 1/(1+np.exp(-0.5*x))"
   ]
  },
  {
   "cell_type": "code",
   "execution_count": 41,
   "metadata": {},
   "outputs": [],
   "source": [
    "sig_5y = sig5(x)\n",
    "sig_05y = sig05(x)"
   ]
  },
  {
   "cell_type": "code",
   "execution_count": 42,
   "metadata": {},
   "outputs": [
    {
     "data": {
      "image/png": "[encoded data removed]",
      "text/plain": [
       "<Figure size 432x288 with 1 Axes>"
      ]
     },
     "metadata": {
      "needs_background": "light"
     },
     "output_type": "display_data"
    }
   ],
   "source": [
    "plt.plot(x, sig_y, x, sig_5y, x, sig_05y)\n",
    "plt.grid()\n",
    "plt.show()"
   ]
  },
  {
   "cell_type": "code",
   "execution_count": 44,
   "metadata": {},
   "outputs": [],
   "source": [
    "def sig_shift(x, b):\n",
    "    return 1 / (1 + np.exp(-(x-b)))"
   ]
  },
  {
   "cell_type": "code",
   "execution_count": 48,
   "metadata": {},
   "outputs": [],
   "source": [
    "sig_shift2y = sig_shift(x, 2)\n",
    "sig_shift_2y = sig_shift(x, -2)"
   ]
  },
  {
   "cell_type": "code",
   "execution_count": 51,
   "metadata": {},
   "outputs": [
    {
     "data": {
      "image/png": "[encoded data removed]",
      "text/plain": [
       "<Figure size 432x288 with 1 Axes>"
      ]
     },
     "metadata": {
      "needs_background": "light"
     },
     "output_type": "display_data"
    }
   ],
   "source": [
    "plt.plot(x, sig_y, x, sig_shift2y, x, sig_shift_2y)\n",
    "plt.grid()\n",
    "plt.show()"
   ]
  },
  {
   "cell_type": "code",
   "execution_count": 58,
   "metadata": {},
   "outputs": [],
   "source": [
    "# 시그모이드 함수의 미분 \n",
    "def derivative_sigmoid(x):\n",
    "    return sigmoid(x) * (1-sigmoid(x))"
   ]
  },
  {
   "cell_type": "code",
   "execution_count": 59,
   "metadata": {},
   "outputs": [],
   "source": [
    "derivative_y = derivative_sigmoid(x)"
   ]
  },
  {
   "cell_type": "code",
   "execution_count": 68,
   "metadata": {},
   "outputs": [
    {
     "data": {
      "image/png": "[encoded data removed]",
      "text/plain": [
       "<Figure size 432x288 with 1 Axes>"
      ]
     },
     "metadata": {
      "needs_background": "light"
     },
     "output_type": "display_data"
    }
   ],
   "source": [
    "plt.plot(x, sig_y, x, derivative_y)\n",
    "plt.grid()\n",
    "plt.show()"
   ]
  },
  {
   "cell_type": "code",
   "execution_count": 88,
   "metadata": {},
   "outputs": [],
   "source": [
    "import tensorflow as tf\n",
    "import numpy as np\n",
    "\n",
    "data = [[2, 0], [4, 0], [6, 0], [8, 1], [10, 1], [12, 1], [14, 1]]\n",
    "x_data = [x_row[0] for x_row in data]\n",
    "y_data = [y_row[1] for y_row in data]\n",
    "\n",
    "a = tf.Variable(tf.random_normal([1], dtype=tf.float64, seed=0))\n",
    "b = tf.Variable(tf.random_normal([1], dtype=tf.float64, seed=0))\n",
    "\n"
   ]
  },
  {
   "cell_type": "code",
   "execution_count": 89,
   "metadata": {},
   "outputs": [],
   "source": [
    "y = 1/(1 + np.e**(a * x_data + b))"
   ]
  },
  {
   "cell_type": "code",
   "execution_count": 90,
   "metadata": {},
   "outputs": [],
   "source": [
    "loss = -tf.reduce_mean(np.array(y_data) * tf.log(y) + (1 - np.array(y_data)) * tf.log(1 - y))"
   ]
  },
  {
   "cell_type": "code",
   "execution_count": 91,
   "metadata": {},
   "outputs": [],
   "source": [
    "learning_rate = 0.5\n",
    "\n",
    "gradient_decent = tf.train.GradientDescentOptimizer(learning_rate).minimize(loss)"
   ]
  },
  {
   "cell_type": "code",
   "execution_count": 92,
   "metadata": {},
   "outputs": [
    {
     "name": "stdout",
     "output_type": "stream",
     "text": [
      "Epoch: 0, loss = 1.2676, 기울기 a = 0.1849, y 절편 = -0.4334\n",
      "Epoch: 6000, loss = 0.0152, 기울기 a = -2.9211, y 절편 = 20.2982\n",
      "Epoch: 12000, loss = 0.0081, 기울기 a = -3.5637, y 절편 = 24.8010\n",
      "Epoch: 18000, loss = 0.0055, 기울기 a = -3.9557, y 절편 = 27.5463\n",
      "Epoch: 24000, loss = 0.0041, 기울기 a = -4.2380, y 절편 = 29.5231\n",
      "Epoch: 30000, loss = 0.0033, 기울기 a = -4.4586, y 절편 = 31.0675\n",
      "Epoch: 36000, loss = 0.0028, 기울기 a = -4.6396, y 절편 = 32.3346\n",
      "Epoch: 42000, loss = 0.0024, 기울기 a = -4.7930, y 절편 = 33.4086\n",
      "Epoch: 48000, loss = 0.0021, 기울기 a = -4.9261, y 절편 = 34.3406\n",
      "Epoch: 54000, loss = 0.0019, 기울기 a = -5.0436, y 절편 = 35.1636\n",
      "Epoch: 60000, loss = 0.0017, 기울기 a = -5.1489, y 절편 = 35.9005\n"
     ]
    }
   ],
   "source": [
    "# 텐서플로를 이용한 학습\n",
    "with tf.Session() as sess:\n",
    "    # 변수 초기화\n",
    "    sess.run(tf.global_variables_initializer())\n",
    "    for i in range(60001):\n",
    "        sess.run(gradient_decent)\n",
    "        # 6000번마다 결과 출력\n",
    "        if i % 6000 == 0:\n",
    "            print(\"Epoch: %.f, loss = %.4f, 기울기 a = %.4f, y 절편 = %.4f\" % (i, sess.run(loss),sess.run(a),sess.run(b)))"
   ]
  },
  {
   "cell_type": "markdown",
   "metadata": {},
   "source": [
    "## **여러 입력 값을 갖는 로지스틱 회귀**"
   ]
  },
  {
   "cell_type": "code",
   "execution_count": 93,
   "metadata": {},
   "outputs": [],
   "source": [
    "#-*- coding: utf-8 -*-\n",
    "import tensorflow as tf\n",
    "import numpy as np\n",
    "\n",
    "# 실행할 때마다 같은 결과를 출력하기 위한 seed 값 설정\n",
    "seed = 0\n",
    "np.random.seed(seed)\n",
    "tf.set_random_seed(seed)"
   ]
  },
  {
   "cell_type": "code",
   "execution_count": 94,
   "metadata": {},
   "outputs": [
    {
     "name": "stdout",
     "output_type": "stream",
     "text": [
      "[[ 2  3]\n",
      " [ 4  3]\n",
      " [ 6  4]\n",
      " [ 8  6]\n",
      " [10  7]\n",
      " [12  8]\n",
      " [14  9]]\n",
      "[[0]\n",
      " [0]\n",
      " [0]\n",
      " [1]\n",
      " [1]\n",
      " [1]\n",
      " [1]]\n"
     ]
    }
   ],
   "source": [
    "# x,y의 데이터 값\n",
    "x_data = np.array([[2, 3],[4, 3],[6, 4],[8, 6],[10, 7],[12, 8],[14, 9]])\n",
    "y_data = np.array([0, 0, 0, 1, 1, 1,1]).reshape(7, 1)\n",
    "\n",
    "print(x_data)\n",
    "print(y_data)"
   ]
  },
  {
   "cell_type": "code",
   "execution_count": 95,
   "metadata": {},
   "outputs": [],
   "source": [
    "# 입력 값을 플래이스 홀더에 저장\n",
    "X = tf.placeholder(tf.float64, shape=[None, 2])\n",
    "Y = tf.placeholder(tf.float64, shape=[None, 1])"
   ]
  },
  {
   "cell_type": "code",
   "execution_count": 96,
   "metadata": {},
   "outputs": [],
   "source": [
    "# 기울기 a와 bias b의 값을 임의로 정함.\n",
    "a = tf.Variable(tf.random_uniform([2,1], dtype=tf.float64)) # [2,1] 의미: 들어오는 값은 2개, 나가는 값은 1개\n",
    "b = tf.Variable(tf.random_uniform([1], dtype=tf.float64))"
   ]
  },
  {
   "cell_type": "code",
   "execution_count": 98,
   "metadata": {},
   "outputs": [],
   "source": [
    "# y 시그모이드 함수의 방정식을 세움\n",
    "# y = sig(a1x1 + a2x2 + y)\n",
    "\n",
    "y = tf.sigmoid(tf.matmul(X, a) + b)  # matmul 행렬곱을 이용해 a1x1 + a2x2를 생성 "
   ]
  },
  {
   "cell_type": "code",
   "execution_count": 99,
   "metadata": {},
   "outputs": [],
   "source": [
    "# 오차를 구하는 함수\n",
    "loss = -tf.reduce_mean(Y * tf.log(y) + (1 - Y) * tf.log(1 - y))"
   ]
  },
  {
   "cell_type": "code",
   "execution_count": 100,
   "metadata": {},
   "outputs": [],
   "source": [
    "# 학습률 값\n",
    "learning_rate=0.1"
   ]
  },
  {
   "cell_type": "code",
   "execution_count": 101,
   "metadata": {},
   "outputs": [],
   "source": [
    "# 오차를 최소로 하는 값 찾기\n",
    "gradient_decent = tf.train.GradientDescentOptimizer(learning_rate).minimize(loss)"
   ]
  },
  {
   "cell_type": "code",
   "execution_count": 102,
   "metadata": {},
   "outputs": [],
   "source": [
    "predicted = tf.cast(y > 0.5, dtype=tf.float64)\n",
    "accuracy = tf.reduce_mean(tf.cast(tf.equal(predicted, Y), dtype=tf.float64))"
   ]
  },
  {
   "cell_type": "code",
   "execution_count": 103,
   "metadata": {},
   "outputs": [
    {
     "name": "stdout",
     "output_type": "stream",
     "text": [
      "step=300, a1=0.7716, a2=-0.4759, b=-2.5215, loss=0.2612\n",
      "step=600, a1=0.7846, a2=-0.2257, b=-3.9715, loss=0.1878\n",
      "step=900, a1=0.7039, a2=0.0864, b=-5.0215, loss=0.1473\n",
      "step=1200, a1=0.6070, a2=0.3815, b=-5.8535, loss=0.1209\n",
      "step=1500, a1=0.5132, a2=0.6463, b=-6.5445, loss=0.1023\n",
      "step=1800, a1=0.4275, a2=0.8810, b=-7.1360, loss=0.0885\n",
      "step=2100, a1=0.3509, a2=1.0889, b=-7.6534, loss=0.0779\n",
      "step=2400, a1=0.2829, a2=1.2739, b=-8.1133, loss=0.0696\n",
      "step=2700, a1=0.2223, a2=1.4395, b=-8.5274, loss=0.0628\n",
      "step=3000, a1=0.1683, a2=1.5889, b=-8.9039, loss=0.0573\n"
     ]
    }
   ],
   "source": [
    "# 학습\n",
    "with tf.Session() as sess:\n",
    "    sess.run(tf.global_variables_initializer())\n",
    "\n",
    "    for i in range(3001):\n",
    "        a_, b_, loss_, _ = sess.run([a, b, loss, gradient_decent], feed_dict={X: x_data, Y: y_data})\n",
    "        if (i + 1) % 300 == 0:\n",
    "            print(\"step=%d, a1=%.4f, a2=%.4f, b=%.4f, loss=%.4f\" % (i + 1, a_[0], a_[1], b_, loss_))"
   ]
  },
  {
   "cell_type": "code",
   "execution_count": null,
   "metadata": {},
   "outputs": [],
   "source": []
  }
 ],
 "metadata": {
  "kernelspec": {
   "display_name": "Python 3",
   "language": "python",
   "name": "python3"
  },
  "language_info": {
   "codemirror_mode": {
    "name": "ipython",
    "version": 3
   },
   "file_extension": ".py",
   "mimetype": "text/x-python",
   "name": "python",
   "nbconvert_exporter": "python",
   "pygments_lexer": "ipython3",
   "version": "3.7.3"
  }
 },
 "nbformat": 4,
 "nbformat_minor": 2
}
