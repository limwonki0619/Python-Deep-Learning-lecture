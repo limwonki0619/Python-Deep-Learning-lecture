{
 "cells": [
  {
   "cell_type": "markdown",
   "metadata": {},
   "source": [
    "# 모델 설계하기"
   ]
  },
  {
   "cell_type": "markdown",
   "metadata": {},
   "source": [
    "## 모델의 정의\n",
    "\n",
    "- model = Sequential() : 딥러닝의 구조를 짜고 층을 설정하는 부분\n",
    "- model.comfile() : 위에서 정해진 모델 컴퓨터가 알아들을 수 있게 컴파일 하는 부분\n",
    "- model.fit() : 모델을 실제로 학습하는 부분 "
   ]
  },
  {
   "cell_type": "markdown",
   "metadata": {},
   "source": [
    "## 입력층, 은닉층\n",
    "\n",
    "- model.add(Dense(30, input_dim=17, activation='relu')) : 새로운 층을 생성하는 부분 \n",
    "- `Dense`로 구체적으로 층을 결정한다. 즉, 여기서는 노드수가 30개인 하나의 층을 만든다.\n",
    "- `input_dim`로 속성의 개수가 들어간다. 또한 `input_dim` 함수를 사용함으로써 입력층+은닉층의 역할을 하게 된다.\n",
    "- `activation`으로 활성화 함수를 결정해준다. 보통 relu를 많이 사용한다."
   ]
  },
  {
   "cell_type": "markdown",
   "metadata": {},
   "source": [
    "## 출력층\n",
    "\n",
    "- model.add(Dense(1,  activation='sigmoid')) \n",
    "- `sigmoid` 활성화 함수는 결과값이 `0`또는 `1`이된다. 즉, 이진분류에 사용되는 활성화함수다."
   ]
  },
  {
   "cell_type": "markdown",
   "metadata": {},
   "source": [
    "## 모델 컴파일\n",
    "\n",
    "- model.compile(loss='mean_squared_error', optimizer='adam', metrics=['accuracy])\n",
    "- 모델 컴파일 부분은 앞서 지정한 모델이 효과적으로 구현될 수 있게 여러가지 환경을 설정해 주면서 컴파일하는 부분이다.\n",
    "- 여기서는 평균제곱오차함수를 사용했다.때에따라서는 오차함수를 바꾸어주면 더 좋은 효과를 내기도 한다.\n",
    "- 최적화 함수로는 'adam'을 사용했다.\n",
    "- `metrics` 함수는 모델이 컴파일될 때 모델 수행 결과를 나타내게끔 설정하는 부분이다."
   ]
  },
  {
   "cell_type": "markdown",
   "metadata": {},
   "source": [
    "## 교차 엔트로피\n",
    "\n",
    "- 오차함수에는 평균제곱오차계열의 함수외에도 교차 엔트로피계열의 함수가 있다.\n",
    "- 교차 엔트로피는 출력 값에 로그를 취해 오차가 커지면 수렴 속도가 빨라지고, 오차가 작아지면 속도가 감소하게끔 만드는 것이다.\n",
    "- 교차 엔트로피는 주로 **분류 문제**에서 많이 사용한다.\n",
    "- 특히 예측 값이 참과 거짓 둘 중 하나인 형식일 때는 `binary_crossentropy`를 쓴다.\n",
    "- 위의 모델 컴파일 부분에서 오차함수를 `binary_crossentropy`를 사용하면 예측 정화도(Accuracy)가 약간 향상된다.  \n",
    "<br>  \n",
    "\n",
    "- 평균 제곱 계열 \n",
    "> mean_squared_error : 평균제곱오차   \n",
    "> mean_absolute_error  : 평균 절대 오차 \n",
    "> mean_absolute_percentage_error  : 평균 절대 백분율 오차 \n",
    "> mean_squared_logarithmic_error  : 평균 제곱 로그 오차 \n",
    "<br>\n",
    "- 교차 엔트로피 계열 \n",
    "> categorial_crossentropy : 범주형 교차 엔트로피 (일반적인 분류)  \n",
    "> binary_crossentropy : 이항 교차 엔트로피 (두 개의 클래스 중에서 예측할 때)  "
   ]
  },
  {
   "cell_type": "markdown",
   "metadata": {},
   "source": [
    "## 모델 실행하기\n",
    "\n",
    "- 모델을 정의하고 컴파일하고 나면 이제 실행시킬 차례다.\n",
    "- model.fit(X, Y, epochs=30, batch_size=10)\n",
    "- 예제로 주어진 폐암 수술 환자의 생존 여부 데이터는 총 470명의 환자에게서 17개의 정보를 정리한 것이다.\n",
    "- 이때 각 정보(독립변수)를 **속성**\n",
    "- 생존 여부를(종속변수)를 **클래스**\n",
    "- 각 환자의 정보(각각의 행)를 **샘플**이라고 한다.\n",
    "<br>  \n",
    "- epochs : 학습프로세스가 모든 **샘플**에 대해 한 번 실행되는 것을 1 epoch라고 한다. 즉, epoch 30은 모든 샘플을 30번 반복 학습하라는 의미다.\n",
    "- batch_size : 샘플을 한번에 몇 개씩 처리할지 정하는 부분이다. batch_size=10은 전체 470개의 샘플을 10개씩 끊어서 집어넣으라는 의미다. 너무 작으면 각 실행 값의 편차가 생겨 전체 결과값이 불안정해질 수 있다. 따라서 컴퓨터 메모리가 감당할만큼의 batch_size를 설정하는것이 좋다."
   ]
  }
 ],
 "metadata": {
  "kernelspec": {
   "display_name": "Python 3",
   "language": "python",
   "name": "python3"
  },
  "language_info": {
   "codemirror_mode": {
    "name": "ipython",
    "version": 3
   },
   "file_extension": ".py",
   "mimetype": "text/x-python",
   "name": "python",
   "nbconvert_exporter": "python",
   "pygments_lexer": "ipython3",
   "version": "3.7.3"
  }
 },
 "nbformat": 4,
 "nbformat_minor": 2
}
