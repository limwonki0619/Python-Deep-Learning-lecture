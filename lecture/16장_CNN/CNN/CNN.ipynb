{
 "cells": [
  {
   "cell_type": "markdown",
   "metadata": {},
   "source": [
    "# CNN : 이미지 인식 - MNIST 사례"
   ]
  },
  {
   "cell_type": "markdown",
   "metadata": {},
   "source": [
    "## 1. 은닉층이 하나인 기본적인 모델 사용하기"
   ]
  },
  {
   "cell_type": "markdown",
   "metadata": {},
   "source": [
    "### 데이터 전처리"
   ]
  },
  {
   "cell_type": "code",
   "execution_count": 1,
   "metadata": {},
   "outputs": [
    {
     "name": "stderr",
     "output_type": "stream",
     "text": [
      "Using TensorFlow backend.\n"
     ]
    }
   ],
   "source": [
    "from keras.datasets import mnist  # MNIST 손글씨 데이터 \n",
    "from keras.utils import np_utils  # 원-핫 인코딩 \n",
    "\n",
    "import numpy\n",
    "import sys\n",
    "import tensorflow as tf"
   ]
  },
  {
   "cell_type": "code",
   "execution_count": 2,
   "metadata": {},
   "outputs": [],
   "source": [
    "# seed 값 설정 \n",
    "seed = 0\n",
    "numpy.random.seed(seed)\n",
    "tf.set_random_seed(seed)"
   ]
  },
  {
   "cell_type": "code",
   "execution_count": 3,
   "metadata": {},
   "outputs": [
    {
     "name": "stdout",
     "output_type": "stream",
     "text": [
      "Downloading data from https://s3.amazonaws.com/img-datasets/mnist.npz\n",
      "11493376/11490434 [==============================] - 10s 1us/step\n"
     ]
    }
   ],
   "source": [
    "# MNIST데이터셋 불러오기\n",
    "(X_train, Y_class_train), (X_test, Y_class_test) = mnist.load_data()"
   ]
  },
  {
   "cell_type": "code",
   "execution_count": 4,
   "metadata": {},
   "outputs": [
    {
     "name": "stdout",
     "output_type": "stream",
     "text": [
      "학습셋 이미지 수 : 60000 개\n",
      "테스트셋 이미지 수 : 10000 개\n"
     ]
    }
   ],
   "source": [
    "print(\"학습셋 이미지 수 : %d 개\" % (X_train.shape[0]))\n",
    "print(\"테스트셋 이미지 수 : %d 개\" % (X_test.shape[0]))"
   ]
  },
  {
   "cell_type": "code",
   "execution_count": 6,
   "metadata": {},
   "outputs": [
    {
     "data": {
      "image/png": "[encoded data removed]",
      "text/plain": [
       "<Figure size 432x288 with 1 Axes>"
      ]
     },
     "metadata": {
      "needs_background": "light"
     },
     "output_type": "display_data"
    }
   ],
   "source": [
    "# 이미지 그래프로 확인\n",
    "import matplotlib.pyplot as plt\n",
    "plt.imshow(X_train[0], cmap='Greys')\n",
    "plt.show()"
   ]
  },
  {
   "cell_type": "code",
   "execution_count": 45,
   "metadata": {},
   "outputs": [],
   "source": [
    "# 코드로 이미지 데이터 확인 \n",
    "# for x in X_train[0]:\n",
    "#     for i in x:\n",
    "#         sys.stdout.write('%d\\t' % i)\n",
    "#     sys.stdout.write('\\n')"
   ]
  },
  {
   "cell_type": "code",
   "execution_count": 8,
   "metadata": {},
   "outputs": [],
   "source": [
    "# 차원 변환 과정\n",
    "X_train = X_train.reshape(X_train.shape[0], 784) # (60000, 784)로 차원 변환 \n",
    "X_train = X_train.astype('float64')"
   ]
  },
  {
   "cell_type": "code",
   "execution_count": null,
   "metadata": {},
   "outputs": [],
   "source": [
    "# 데이터 확인 \n",
    "X_train.shape # (60000, 784)"
   ]
  },
  {
   "cell_type": "code",
   "execution_count": 9,
   "metadata": {},
   "outputs": [],
   "source": [
    "# 데이터 정규화 \n",
    "X_train = X_train / 255\n",
    "X_test = X_test.reshape(X_test.shape[0], 784).astype('float64') / 255"
   ]
  },
  {
   "cell_type": "code",
   "execution_count": 14,
   "metadata": {},
   "outputs": [
    {
     "name": "stdout",
     "output_type": "stream",
     "text": [
      "class : 5 \n"
     ]
    }
   ],
   "source": [
    "# 클래스 값 확인\n",
    "print(\"class : %d \" % (Y_class_train[0]))"
   ]
  },
  {
   "cell_type": "code",
   "execution_count": 15,
   "metadata": {},
   "outputs": [],
   "source": [
    "# 원-핫 인코딩 \n",
    "Y_train = np_utils.to_categorical(Y_class_train, 10)\n",
    "Y_test = np_utils.to_categorical(Y_class_test, 10)"
   ]
  },
  {
   "cell_type": "code",
   "execution_count": 18,
   "metadata": {},
   "outputs": [
    {
     "name": "stdout",
     "output_type": "stream",
     "text": [
      "[0. 0. 0. 0. 0. 1. 0. 0. 0. 0.]\n"
     ]
    }
   ],
   "source": [
    "print(Y_train[0])"
   ]
  },
  {
   "cell_type": "code",
   "execution_count": 51,
   "metadata": {},
   "outputs": [
    {
     "data": {
      "text/plain": [
       "(784,)"
      ]
     },
     "execution_count": 51,
     "metadata": {},
     "output_type": "execute_result"
    }
   ],
   "source": [
    "X_train[0].shape"
   ]
  },
  {
   "cell_type": "markdown",
   "metadata": {},
   "source": [
    "### 데이터 처리 풀코드"
   ]
  },
  {
   "cell_type": "code",
   "execution_count": null,
   "metadata": {},
   "outputs": [],
   "source": [
    "# seed 값 설정\n",
    "seed = 0\n",
    "numpy.random.seed(seed)\n",
    "tf.set_random_seed(seed)\n",
    "\n",
    "# MNIST 데이터 불러오기\n",
    "(X_train, Y_train), (X_test, Y_test) = mnist.load_data()\n",
    "\n",
    "X_train = X_train.reshape(X_train.shape[0], 784).astype('float32') / 255\n",
    "X_test = X_test.reshape(X_test.shape[0], 784).astype('float32') / 255\n",
    "\n",
    "Y_train = np_utils.to_categorical(Y_train, 10)\n",
    "Y_test = np_utils.to_categorical(Y_test, 10)"
   ]
  },
  {
   "cell_type": "markdown",
   "metadata": {},
   "source": [
    "### 딥러닝 기본 프레임 만들기\n",
    "\n",
    " - 딥러닝을 실행하고자 프레임을 설정\n",
    " - 총 784개의 속성이 있고, 10개의 클래스가 있음\n",
    " - 따라서 다음과 같이 딥러닝 프레임을 만들 수 있음 "
   ]
  },
  {
   "cell_type": "code",
   "execution_count": 25,
   "metadata": {},
   "outputs": [],
   "source": [
    "from keras.models import Sequential\n",
    "from keras.layers import Dense\n",
    "from keras.callbacks import ModelCheckpoint,EarlyStopping\n",
    "import os"
   ]
  },
  {
   "cell_type": "code",
   "execution_count": 22,
   "metadata": {},
   "outputs": [
    {
     "name": "stderr",
     "output_type": "stream",
     "text": [
      "WARNING: Logging before flag parsing goes to stderr.\n",
      "W0819 09:47:51.613267  4020 deprecation_wrapper.py:119] From C:\\AN\\lib\\site-packages\\keras\\backend\\tensorflow_backend.py:74: The name tf.get_default_graph is deprecated. Please use tf.compat.v1.get_default_graph instead.\n",
      "\n",
      "W0819 09:47:51.613267  4020 deprecation_wrapper.py:119] From C:\\AN\\lib\\site-packages\\keras\\backend\\tensorflow_backend.py:517: The name tf.placeholder is deprecated. Please use tf.compat.v1.placeholder instead.\n",
      "\n",
      "W0819 09:47:51.633867  4020 deprecation_wrapper.py:119] From C:\\AN\\lib\\site-packages\\keras\\backend\\tensorflow_backend.py:4138: The name tf.random_uniform is deprecated. Please use tf.random.uniform instead.\n",
      "\n"
     ]
    }
   ],
   "source": [
    "# 모델 생성 \n",
    "model = Sequential()\n",
    "model.add(Dense(512, input_dim = 784, activation='relu'))\n",
    "model.add(Dense(10, activation='softmax'))"
   ]
  },
  {
   "cell_type": "code",
   "execution_count": 23,
   "metadata": {},
   "outputs": [
    {
     "name": "stderr",
     "output_type": "stream",
     "text": [
      "W0819 09:48:42.913702  4020 deprecation_wrapper.py:119] From C:\\AN\\lib\\site-packages\\keras\\optimizers.py:790: The name tf.train.Optimizer is deprecated. Please use tf.compat.v1.train.Optimizer instead.\n",
      "\n",
      "W0819 09:48:42.953304  4020 deprecation_wrapper.py:119] From C:\\AN\\lib\\site-packages\\keras\\backend\\tensorflow_backend.py:3295: The name tf.log is deprecated. Please use tf.math.log instead.\n",
      "\n"
     ]
    }
   ],
   "source": [
    "# 모델 컴파일\n",
    "model.compile(loss='categorical_crossentropy',\n",
    "             optimizer='adam',\n",
    "             metrics=['accuracy'])"
   ]
  },
  {
   "cell_type": "code",
   "execution_count": 28,
   "metadata": {},
   "outputs": [],
   "source": [
    "# 모델 최적화 설정\n",
    "MODEL_DIR = './model/'\n",
    "if not os.path.exists(MODEL_DIR):\n",
    "    os.mkdir(MODEL_DIR)\n",
    "\n",
    "modelpath=\"./model/{epoch:02d}-{val_loss:.4f}.hdf5\"\n",
    "checkpointer = ModelCheckpoint(filepath=modelpath, monitor='val_loss', verbose=1, save_best_only=True)\n",
    "early_stopping_callback = EarlyStopping(monitor='val_loss', patience=10)"
   ]
  },
  {
   "cell_type": "code",
   "execution_count": 29,
   "metadata": {},
   "outputs": [
    {
     "name": "stderr",
     "output_type": "stream",
     "text": [
      "W0819 09:51:02.491874  4020 deprecation.py:323] From C:\\AN\\lib\\site-packages\\tensorflow\\python\\ops\\math_grad.py:1250: add_dispatch_support.<locals>.wrapper (from tensorflow.python.ops.array_ops) is deprecated and will be removed in a future version.\n",
      "Instructions for updating:\n",
      "Use tf.where in 2.0, which has the same broadcast rule as np.where\n",
      "W0819 09:51:02.603881  4020 deprecation_wrapper.py:119] From C:\\AN\\lib\\site-packages\\keras\\backend\\tensorflow_backend.py:986: The name tf.assign_add is deprecated. Please use tf.compat.v1.assign_add instead.\n",
      "\n"
     ]
    },
    {
     "name": "stdout",
     "output_type": "stream",
     "text": [
      "\n",
      "Epoch 00001: val_loss improved from inf to 0.15521, saving model to ./model/01-0.1552.hdf5\n",
      "\n",
      "Epoch 00002: val_loss improved from 0.15521 to 0.10427, saving model to ./model/02-0.1043.hdf5\n",
      "\n",
      "Epoch 00003: val_loss improved from 0.10427 to 0.08473, saving model to ./model/03-0.0847.hdf5\n",
      "\n",
      "Epoch 00004: val_loss improved from 0.08473 to 0.07920, saving model to ./model/04-0.0792.hdf5\n",
      "\n",
      "Epoch 00005: val_loss improved from 0.07920 to 0.06846, saving model to ./model/05-0.0685.hdf5\n",
      "\n",
      "Epoch 00006: val_loss improved from 0.06846 to 0.06418, saving model to ./model/06-0.0642.hdf5\n",
      "\n",
      "Epoch 00007: val_loss did not improve from 0.06418\n",
      "\n",
      "Epoch 00008: val_loss did not improve from 0.06418\n",
      "\n",
      "Epoch 00009: val_loss improved from 0.06418 to 0.05876, saving model to ./model/09-0.0588.hdf5\n",
      "\n",
      "Epoch 00010: val_loss did not improve from 0.05876\n",
      "\n",
      "Epoch 00011: val_loss did not improve from 0.05876\n",
      "\n",
      "Epoch 00012: val_loss did not improve from 0.05876\n",
      "\n",
      "Epoch 00013: val_loss did not improve from 0.05876\n",
      "\n",
      "Epoch 00014: val_loss did not improve from 0.05876\n",
      "\n",
      "Epoch 00015: val_loss did not improve from 0.05876\n",
      "\n",
      "Epoch 00016: val_loss did not improve from 0.05876\n",
      "\n",
      "Epoch 00017: val_loss did not improve from 0.05876\n",
      "\n",
      "Epoch 00018: val_loss did not improve from 0.05876\n",
      "\n",
      "Epoch 00019: val_loss did not improve from 0.05876\n"
     ]
    }
   ],
   "source": [
    "# 모델의 실행\n",
    "history = model.fit(X_train, Y_train, validation_data=(X_test, Y_test), epochs=30, batch_size=200, verbose=0, callbacks=[early_stopping_callback,checkpointer])"
   ]
  },
  {
   "cell_type": "code",
   "execution_count": 30,
   "metadata": {},
   "outputs": [
    {
     "name": "stdout",
     "output_type": "stream",
     "text": [
      "10000/10000 [==============================] - 0s 18us/step\n",
      "\n",
      " Test Accuracy: 0.9824\n"
     ]
    }
   ],
   "source": [
    "# 테스트 정확도 출력\n",
    "print(\"\\n Test Accuracy: %.4f\" % (model.evaluate(X_test, Y_test)[1]))"
   ]
  },
  {
   "cell_type": "code",
   "execution_count": 32,
   "metadata": {},
   "outputs": [],
   "source": [
    "# 테스트 셋의 오차\n",
    "y_vloss = history.history['val_loss']\n",
    "# 학습셋의 오차\n",
    "y_loss = history.history['loss']"
   ]
  },
  {
   "cell_type": "code",
   "execution_count": 44,
   "metadata": {},
   "outputs": [
    {
     "data": {
      "image/png": "[encoded data removed]",
      "text/plain": [
       "<Figure size 432x288 with 1 Axes>"
      ]
     },
     "metadata": {
      "needs_background": "light"
     },
     "output_type": "display_data"
    }
   ],
   "source": [
    "# 그래프로 표현\n",
    "\n",
    "# 테스트 셋의 오차\n",
    "y_vloss = history.history['val_loss']\n",
    "\n",
    "# 학습셋의 오차\n",
    "y_loss = history.history['loss']\n",
    "\n",
    "x_len = numpy.arange(1, len(y_loss)+1)\n",
    "plt.plot(x_len, y_vloss, marker='.', c=\"red\", label='Testset_loss')\n",
    "plt.plot(x_len, y_loss, marker='.', c=\"blue\", label='Trainset_loss')\n",
    "\n",
    "# 그래프에 그리드를 주고 레이블을 표시\n",
    "plt.legend(loc='upper right')\n",
    "# plt.axis([0, 20, 0, 0.35])\n",
    "plt.grid()\n",
    "plt.xlabel('epoch')\n",
    "plt.ylabel('loss')\n",
    "plt.show()"
   ]
  },
  {
   "cell_type": "markdown",
   "metadata": {},
   "source": [
    "- 기본 모델에서 최적의 모델은 Epoch 15일 때 이며,  정확도는 98.24%"
   ]
  },
  {
   "cell_type": "markdown",
   "metadata": {},
   "source": [
    "## 2. 컨볼루션 신경망(CNN) 사용하기\n",
    "\n",
    "- 컨볼루션(합성곱) 신경망은 입력된 이미지에서 다시 한번 **특징을 추출하기 위해 마스크**(필터, 윈도 또는 커널이라고함)를 도입하는 것\n",
    "- 컨볼루션을 만들면 입력 데이터로부터 정교한 특징을 얻을 수 있다.\n",
    "- 마스크를 여러개 만들 경우 여러 개의 컨볼루션이 만들어진다."
   ]
  },
  {
   "cell_type": "markdown",
   "metadata": {},
   "source": [
    "- `model.add(Conv2D(32, kernel_size=(3,3), input_shape(28, 28, 1), activation='relu'))`\n",
    "- 케라스에서 컨볼루션을 추가하는 함수는 Conv2D, 32개의 마스크를 적용 \n",
    "- kernel_size : 마스크의 크기를 정한다(행, 열), 3 x 3 크기의 마스크를 사용하게끔 한다.\n",
    "- input_shape : Dense 층과 마찬가지로 맨 처음 층에는 입력되는 값을 알려줘야한다. (행, 열, 색상(3) 또는 흑백(1))\n",
    "- activation : 활성화 함수를 정의 "
   ]
  },
  {
   "cell_type": "markdown",
   "metadata": {},
   "source": [
    "### 맥스 풀링"
   ]
  },
  {
   "cell_type": "markdown",
   "metadata": {},
   "source": [
    "- 앞서 구현한 컨볼루션 층을 통해 이미지의 특징을 추출함\n",
    "- 하지만, 그 결과가 여전히 크고 복잡하면 이를 다시 축소해야함.\n",
    "- 이 과정을 풀링(pooling) 또는 서브 샘플링(sub sampling)이라고 한다.\n",
    "- 풀링 기법 중 가장 많이 사용되는 방법이 맥스 풀링(max pooling)이다.\n",
    "- 맥스 풀링은 정해진 구역 안에서 가장 `큰`값만 다음 층으로 넘기고 나머지는 버린다.\n",
    "- 맥스 풀링은 `MaxPooling2D()`함수를 사용한다.\n",
    "- `model.add(MaxPooling2D(pool_size=2)`\n",
    "- 여기서 pool_size = 2는 풀링 창의 크기를 정하는 것으로, 2로 정하면 전체 크기가 절반으로 줄어든다."
   ]
  },
  {
   "cell_type": "markdown",
   "metadata": {},
   "source": [
    "### 드롭아웃(Dropout)\n",
    "\n",
    "- 드롭아웃은 과적합을 피해가는 방법 중 효과가 큰 방법 \n",
    "- 드롭아웃은 은닉층에 배치된 노드 중 일부를 임의로 꺼주는 것이다.\n",
    "- 랜덤하게 노드를 끔으로써 과적합을 방지할 수 있다.\n",
    "- 25%의 노드를 끄려먼 다음과 같이 코드를 작성하면 된다.\n",
    "- `model.add(Dropout(0.25))`"
   ]
  },
  {
   "cell_type": "markdown",
   "metadata": {},
   "source": [
    "### 플래튼(Flatten)\n",
    "\n",
    "- 위에서 진행한 컨볼루션 층이나 맥스 풀링은 주어진 이미지를 2차원 배열로 다룬다.\n",
    "- 따라서 기존 모델층에 추가하기 위해서는 이를 1차원으로 변경해야 하는데, 이때 사용하는 함수가 플래튼 함수다.\n",
    "- `model.add(Flatten())`"
   ]
  },
  {
   "cell_type": "markdown",
   "metadata": {},
   "source": [
    "### 패딩(Padding)\n",
    "\n",
    "- 패딩(Padding)은 합성곱 연산을 수행하기 전, 입력데이터 주변을 특정값으로 채워 늘리는 것을 말한다. 패딩(Padding)은 주로 출력데이터의 공간적(Spatial)크기를 조절하기 위해 사용한다. 패딩을 할때, 채울 값은 hyperparameter로 어떤 값을 채울지 결정할 수 있다. 주로 zero-padding을 사용한다.\n",
    "\n",
    "- 패딩을 사용하는 이유는 패딩을 사용하지 않을 경우, 데이터의 Spatial 크기는 Conv Layer를 지날 때 마다 작아지게 되므로, 가장자리의 정보들이 사라지는 문제가 발생하기 때문에 패딩을 사용한다.\n",
    "\n",
    "\n",
    "출처: https://excelsior-cjh.tistory.com/79 [EXCELSIOR]"
   ]
  },
  {
   "cell_type": "markdown",
   "metadata": {},
   "source": [
    "### 스트라이드(Stride)\n",
    "\n",
    "- 스트라이드는 입력데이터에 필터를 적용할 때 이동할 간격을 조절하는 것, 즉 필터가 이동할 간격을 말한다. 스트라이드 또한 출력 데이터의 크기를 조절하기 위해 사용한다. 스트라이드(Stride)는 보통 1과 같이 작은 값이 더 잘 작동하며, Stride가 1일 경우 입력 데이터의 spatial 크기는 pooling 계층에서만 조절하게 할 수 있다.\n",
    "\n",
    "출처: https://excelsior-cjh.tistory.com/79 [EXCELSIOR]"
   ]
  },
  {
   "cell_type": "markdown",
   "metadata": {},
   "source": [
    "### 출력크기 계산\n",
    "\n",
    "- 패딩과 스트라이드를 적용하고, 입력데이터와 필터의 크기가 주어졌을 때 출력 데이터의 크기를 구하는 식은 아래 [식 1]과 같다.\n",
    "\n",
    "출처: https://excelsior-cjh.tistory.com/79 [EXCELSIOR]"
   ]
  },
  {
   "cell_type": "markdown",
   "metadata": {},
   "source": [
    "### CNN 적용하기"
   ]
  },
  {
   "cell_type": "code",
   "execution_count": 52,
   "metadata": {},
   "outputs": [],
   "source": [
    "from keras.datasets import mnist\n",
    "from keras.utils import np_utils\n",
    "from keras.models import Sequential\n",
    "from keras.layers import Dense, Dropout, Flatten, Conv2D, MaxPooling2D\n",
    "from keras.callbacks import ModelCheckpoint,EarlyStopping\n",
    "\n",
    "import matplotlib.pyplot as plt\n",
    "import numpy\n",
    "import os\n",
    "import tensorflow as tf"
   ]
  },
  {
   "cell_type": "code",
   "execution_count": 53,
   "metadata": {},
   "outputs": [],
   "source": [
    "# seed 값 설정\n",
    "seed = 0\n",
    "numpy.random.seed(seed)\n",
    "tf.set_random_seed(seed)"
   ]
  },
  {
   "cell_type": "code",
   "execution_count": 54,
   "metadata": {},
   "outputs": [],
   "source": [
    "# 데이터 불러오기 및 처리 \n",
    "\n",
    "(X_train, Y_train), (X_test, Y_test) = mnist.load_data()\n",
    "\n",
    "X_train = X_train.reshape(X_train.shape[0], 28, 28, 1).astype('float32') / 255 # (60000, 28, 28, 1), CNN에 적용하기 위해서는 2차원 형태\n",
    "X_test = X_test.reshape(X_test.shape[0], 28, 28, 1).astype('float32') / 255  # (10000, 28, 28, 1)\n",
    "\n",
    "Y_train = np_utils.to_categorical(Y_train)  # 원-핫 인코딩 \n",
    "Y_test = np_utils.to_categorical(Y_test)    # 원-핫 인코딩 "
   ]
  },
  {
   "cell_type": "code",
   "execution_count": 55,
   "metadata": {},
   "outputs": [
    {
     "name": "stderr",
     "output_type": "stream",
     "text": [
      "W0819 11:20:23.968762  4020 deprecation_wrapper.py:119] From C:\\AN\\lib\\site-packages\\keras\\backend\\tensorflow_backend.py:3976: The name tf.nn.max_pool is deprecated. Please use tf.nn.max_pool2d instead.\n",
      "\n",
      "W0819 11:20:23.977762  4020 deprecation.py:506] From C:\\AN\\lib\\site-packages\\keras\\backend\\tensorflow_backend.py:3445: calling dropout (from tensorflow.python.ops.nn_ops) with keep_prob is deprecated and will be removed in a future version.\n",
      "Instructions for updating:\n",
      "Please use `rate` instead of `keep_prob`. Rate should be set to `rate = 1 - keep_prob`.\n"
     ]
    }
   ],
   "source": [
    "# 컨볼루션 신경망(CNN)의 설정\n",
    "\n",
    "model = Sequential()\n",
    "model.add(Conv2D(32, kernel_size=(3, 3), input_shape=(28, 28, 1), activation='relu')) # 컨볼루션 신경망, 32개의 마스크, 28x28, 1 : 흑백\n",
    "model.add(Conv2D(64, kernel_size=(3, 3), activation='relu')) # 64개의 마스크, 마스크 크기는 3x3 \n",
    "model.add(MaxPooling2D(pool_size=2))  # 전체 크기가 1/2로 줄어듦 \n",
    "model.add(Dropout(0.25)) # 25% 드롭아웃 \n",
    "model.add(Flatten())     # 1차원으로 변경 \n",
    "model.add(Dense(128,  activation='relu'))  # 128개의 노드를 가진 층\n",
    "model.add(Dropout(0.5))  # 50% 드롭아웃 \n",
    "model.add(Dense(10, activation='softmax')) # 출력층, softmax 함수 \n",
    "\n",
    "model.compile(loss='categorical_crossentropy',  # 10개의 출력충이므로 카테고리컬 엔트로피 손실 함수 \n",
    "              optimizer='adam', # 최적화 함수\n",
    "              metrics=['accuracy'])"
   ]
  },
  {
   "cell_type": "code",
   "execution_count": 57,
   "metadata": {},
   "outputs": [
    {
     "name": "stdout",
     "output_type": "stream",
     "text": [
      "_________________________________________________________________\n",
      "Layer (type)                 Output Shape              Param #   \n",
      "=================================================================\n",
      "conv2d_1 (Conv2D)            (None, 26, 26, 32)        320       \n",
      "_________________________________________________________________\n",
      "conv2d_2 (Conv2D)            (None, 24, 24, 64)        18496     \n",
      "_________________________________________________________________\n",
      "max_pooling2d_1 (MaxPooling2 (None, 12, 12, 64)        0         \n",
      "_________________________________________________________________\n",
      "dropout_1 (Dropout)          (None, 12, 12, 64)        0         \n",
      "_________________________________________________________________\n",
      "flatten_1 (Flatten)          (None, 9216)              0         \n",
      "_________________________________________________________________\n",
      "dense_3 (Dense)              (None, 128)               1179776   \n",
      "_________________________________________________________________\n",
      "dropout_2 (Dropout)          (None, 128)               0         \n",
      "_________________________________________________________________\n",
      "dense_4 (Dense)              (None, 10)                1290      \n",
      "=================================================================\n",
      "Total params: 1,199,882\n",
      "Trainable params: 1,199,882\n",
      "Non-trainable params: 0\n",
      "_________________________________________________________________\n"
     ]
    }
   ],
   "source": [
    "# 모델 확인 \n",
    "model.summary()\n",
    "\n",
    "# 1. 패딩을 하지 않아 출력 크기가 감소하였다.\n",
    "# 2. 2도 마찬가지.\n",
    "# 3. 맥스 풀링(풀링사이즈 = 2 )으로 출력크기가 절반으로 줄어들었다.\n",
    "# 4. 25% 드롭아웃\n",
    "# 5. 12 x 12 x 64의 3차원 데이터를 1차원으로 변환하였다. (12 x 12 x 64 = 9216)\n",
    "# 6. 128개의 노드를 갖는 Dense층 \n",
    "# 7. 50% 드롭아웃\n",
    "# 8. 10개의 노드를 갖는 출력층 "
   ]
  },
  {
   "cell_type": "code",
   "execution_count": 58,
   "metadata": {},
   "outputs": [],
   "source": [
    "# 모델 최적화 설정\n",
    "\n",
    "MODEL_DIR = './CNN_model/'\n",
    "if not os.path.exists(MODEL_DIR):\n",
    "    os.mkdir(MODEL_DIR)\n",
    "\n",
    "modelpath=\"./CNN_model/{epoch:02d}-{val_loss:.4f}.hdf5\"\n",
    "checkpointer = ModelCheckpoint(filepath=modelpath, monitor='val_loss', verbose=1, save_best_only=True)\n",
    "early_stopping_callback = EarlyStopping(monitor='val_loss', patience=10)"
   ]
  },
  {
   "cell_type": "code",
   "execution_count": 59,
   "metadata": {},
   "outputs": [
    {
     "name": "stdout",
     "output_type": "stream",
     "text": [
      "\n",
      "Epoch 00001: val_loss improved from inf to 0.05894, saving model to ./CNN_model/01-0.0589.hdf5\n",
      "\n",
      "Epoch 00002: val_loss improved from 0.05894 to 0.04323, saving model to ./CNN_model/02-0.0432.hdf5\n",
      "\n",
      "Epoch 00003: val_loss improved from 0.04323 to 0.03769, saving model to ./CNN_model/03-0.0377.hdf5\n",
      "\n",
      "Epoch 00004: val_loss improved from 0.03769 to 0.03198, saving model to ./CNN_model/04-0.0320.hdf5\n",
      "\n",
      "Epoch 00005: val_loss improved from 0.03198 to 0.02806, saving model to ./CNN_model/05-0.0281.hdf5\n",
      "\n",
      "Epoch 00006: val_loss did not improve from 0.02806\n",
      "\n",
      "Epoch 00007: val_loss did not improve from 0.02806\n",
      "\n",
      "Epoch 00008: val_loss did not improve from 0.02806\n",
      "\n",
      "Epoch 00009: val_loss did not improve from 0.02806\n",
      "\n",
      "Epoch 00010: val_loss did not improve from 0.02806\n",
      "\n",
      "Epoch 00011: val_loss improved from 0.02806 to 0.02695, saving model to ./CNN_model/11-0.0269.hdf5\n",
      "\n",
      "Epoch 00012: val_loss did not improve from 0.02695\n",
      "\n",
      "Epoch 00013: val_loss did not improve from 0.02695\n",
      "\n",
      "Epoch 00014: val_loss did not improve from 0.02695\n",
      "\n",
      "Epoch 00015: val_loss did not improve from 0.02695\n",
      "\n",
      "Epoch 00016: val_loss did not improve from 0.02695\n",
      "\n",
      "Epoch 00017: val_loss did not improve from 0.02695\n",
      "\n",
      "Epoch 00018: val_loss did not improve from 0.02695\n",
      "\n",
      "Epoch 00019: val_loss did not improve from 0.02695\n",
      "\n",
      "Epoch 00020: val_loss did not improve from 0.02695\n",
      "\n",
      "Epoch 00021: val_loss did not improve from 0.02695\n"
     ]
    }
   ],
   "source": [
    "# 모델의 실행\n",
    "\n",
    "history = model.fit(X_train, Y_train, validation_data=(X_test, Y_test), epochs=30, batch_size=200, verbose=0, callbacks=[early_stopping_callback,checkpointer])"
   ]
  },
  {
   "cell_type": "code",
   "execution_count": 60,
   "metadata": {},
   "outputs": [
    {
     "name": "stdout",
     "output_type": "stream",
     "text": [
      "10000/10000 [==============================] - 2s 192us/step\n",
      "\n",
      " Test Accuracy: 0.9932\n"
     ]
    }
   ],
   "source": [
    "# 테스트 정확도 출력\n",
    "print(\"\\n Test Accuracy: %.4f\" % (model.evaluate(X_test, Y_test)[1]))"
   ]
  },
  {
   "cell_type": "code",
   "execution_count": 61,
   "metadata": {},
   "outputs": [
    {
     "data": {
      "image/png": "[encoded data removed]",
      "text/plain": [
       "<Figure size 432x288 with 1 Axes>"
      ]
     },
     "metadata": {
      "needs_background": "light"
     },
     "output_type": "display_data"
    }
   ],
   "source": [
    "# 테스트 셋의 오차\n",
    "y_vloss = history.history['val_loss']\n",
    "\n",
    "# 학습셋의 오차\n",
    "y_loss = history.history['loss']\n",
    "\n",
    "# 그래프로 표현\n",
    "x_len = numpy.arange(1, len(y_loss)+1)\n",
    "plt.plot(x_len, y_vloss, marker='.', c=\"red\", label='Testset_loss')\n",
    "plt.plot(x_len, y_loss, marker='.', c=\"blue\", label='Trainset_loss')\n",
    "\n",
    "# 그래프에 그리드를 주고 레이블을 표시\n",
    "plt.legend(loc='upper right')\n",
    "plt.grid()\n",
    "plt.xlabel('epoch')\n",
    "plt.ylabel('loss')\n",
    "plt.show()"
   ]
  },
  {
   "cell_type": "markdown",
   "metadata": {},
   "source": [
    "### CNN 적용하기 : 풀 코드 "
   ]
  },
  {
   "cell_type": "code",
   "execution_count": null,
   "metadata": {},
   "outputs": [],
   "source": [
    "from keras.datasets import mnist\n",
    "from keras.utils import np_utils\n",
    "from keras.models import Sequential\n",
    "from keras.layers import Dense, Dropout, Flatten, Conv2D, MaxPooling2D\n",
    "from keras.callbacks import ModelCheckpoint,EarlyStopping\n",
    "\n",
    "import matplotlib.pyplot as plt\n",
    "import numpy\n",
    "import os\n",
    "import tensorflow as tf\n",
    "\n",
    "# seed 값 설정\n",
    "seed = 0\n",
    "numpy.random.seed(seed)\n",
    "tf.set_random_seed(seed)\n",
    "\n",
    "# 데이터 불러오기\n",
    "\n",
    "(X_train, Y_train), (X_test, Y_test) = mnist.load_data()\n",
    "X_train = X_train.reshape(X_train.shape[0], 28, 28, 1).astype('float32') / 255\n",
    "X_test = X_test.reshape(X_test.shape[0], 28, 28, 1).astype('float32') / 255\n",
    "Y_train = np_utils.to_categorical(Y_train)\n",
    "Y_test = np_utils.to_categorical(Y_test)\n",
    "\n",
    "# 컨볼루션 신경망의 설정\n",
    "model = Sequential()\n",
    "model.add(Conv2D(32, kernel_size=(3, 3), input_shape=(28, 28, 1), activation='relu'))\n",
    "model.add(Conv2D(64, (3, 3), activation='relu'))\n",
    "model.add(MaxPooling2D(pool_size=2))\n",
    "model.add(Dropout(0.25))\n",
    "model.add(Flatten())\n",
    "model.add(Dense(128,  activation='relu'))\n",
    "model.add(Dropout(0.5))\n",
    "model.add(Dense(10, activation='softmax'))\n",
    "\n",
    "model.compile(loss='categorical_crossentropy',\n",
    "              optimizer='adam',\n",
    "              metrics=['accuracy'])\n",
    "\n",
    "# 모델 최적화 설정\n",
    "MODEL_DIR = './model/'\n",
    "if not os.path.exists(MODEL_DIR):\n",
    "    os.mkdir(MODEL_DIR)\n",
    "\n",
    "modelpath=\"./model/{epoch:02d}-{val_loss:.4f}.hdf5\"\n",
    "checkpointer = ModelCheckpoint(filepath=modelpath, monitor='val_loss', verbose=1, save_best_only=True)\n",
    "early_stopping_callback = EarlyStopping(monitor='val_loss', patience=10)\n",
    "\n",
    "# 모델의 실행\n",
    "history = model.fit(X_train, Y_train, validation_data=(X_test, Y_test), epochs=30, batch_size=200, verbose=0, callbacks=[early_stopping_callback,checkpointer])\n",
    "\n",
    "# 테스트 정확도 출력\n",
    "print(\"\\n Test Accuracy: %.4f\" % (model.evaluate(X_test, Y_test)[1]))\n",
    "\n",
    "# 테스트 셋의 오차\n",
    "y_vloss = history.history['val_loss']\n",
    "\n",
    "# 학습셋의 오차\n",
    "y_loss = history.history['loss']\n",
    "\n",
    "# 그래프로 표현\n",
    "x_len = numpy.arange(1,len(y_loss)+1)\n",
    "plt.plot(x_len, y_vloss, marker='.', c=\"red\", label='Testset_loss')\n",
    "plt.plot(x_len, y_loss, marker='.', c=\"blue\", label='Trainset_loss')\n",
    "\n",
    "# 그래프에 그리드를 주고 레이블을 표시\n",
    "plt.legend(loc='upper right')\n",
    "plt.grid()\n",
    "plt.xlabel('epoch')\n",
    "plt.ylabel('loss')\n",
    "plt.show()"
   ]
  }
 ],
 "metadata": {
  "kernelspec": {
   "display_name": "Python 3",
   "language": "python",
   "name": "python3"
  },
  "language_info": {
   "codemirror_mode": {
    "name": "ipython",
    "version": 3
   },
   "file_extension": ".py",
   "mimetype": "text/x-python",
   "name": "python",
   "nbconvert_exporter": "python",
   "pygments_lexer": "ipython3",
   "version": "3.7.3"
  }
 },
 "nbformat": 4,
 "nbformat_minor": 2
}
