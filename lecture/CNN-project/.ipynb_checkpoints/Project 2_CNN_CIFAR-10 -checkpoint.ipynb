{
 "cells": [
  {
   "cell_type": "markdown",
   "metadata": {},
   "source": [
    "# 개인 프로젝트 : CIFAR-10 데이터 분류\n",
    "\n",
    "- [코드 참고 1](https://buomsoo-kim.github.io/keras/2019/07/30/Easy-deep-learning-with-Keras-21.md/)\n",
    "- [코드 참고 2](https://excelsior-cjh.tistory.com/152)\n",
    "- [코드 참고 3](https://appliedmachinelearning.blog/2018/03/24/achieving-90-accuracy-in-object-recognition-task-on-cifar-10-dataset-with-keras-convolutional-neural-networks/)\n",
    "- [코드 참고 4](https://datascienceschool.net/view-notebook/8fc58d2c1ffc420dac44eafee7b28cea/)"
   ]
  },
  {
   "cell_type": "markdown",
   "metadata": {},
   "source": [
    "## 필요 라이브러리 호출"
   ]
  },
  {
   "cell_type": "code",
   "execution_count": 23,
   "metadata": {},
   "outputs": [],
   "source": [
    "from sklearn.metrics import accuracy_score\n",
    "from keras.datasets import cifar10\n",
    "from keras.utils import np_utils\n",
    "from keras.models import Sequential, Model\n",
    "from keras.layers import Conv2D, MaxPooling2D, Flatten, Dense, Dropout, BatchNormalization\n",
    "from keras.callbacks import ModelCheckpoint, EarlyStopping\n",
    "from keras.regularizers import l2\n",
    "from IPython.display import Image\n",
    "\n",
    "import numpy as np \n",
    "import os"
   ]
  },
  {
   "cell_type": "markdown",
   "metadata": {},
   "source": [
    "## 데이터 불러오기"
   ]
  },
  {
   "cell_type": "code",
   "execution_count": 2,
   "metadata": {},
   "outputs": [],
   "source": [
    "# 데이터 로드 \n",
    "(X_train, y_train0), (X_test, y_test0) = cifar10.load_data()"
   ]
  },
  {
   "cell_type": "code",
   "execution_count": 3,
   "metadata": {},
   "outputs": [
    {
     "name": "stdout",
     "output_type": "stream",
     "text": [
      "(50000, 32, 32, 3) uint8 [59 62 63]\n",
      "(10000, 32, 32, 3) uint8\n",
      "(50000, 1) uint8\n",
      "(10000, 1) int32\n"
     ]
    }
   ],
   "source": [
    "# 총 데이터 \n",
    "\n",
    "print(X_train.shape, X_train.dtype, X_train[0][0][0])\n",
    "print(X_test.shape, X_test.dtype)\n",
    "print(y_train0.shape, y_train0.dtype )\n",
    "print(y_test0.shape, y_test0.dtype )"
   ]
  },
  {
   "cell_type": "markdown",
   "metadata": {},
   "source": [
    "## 데이터 확인"
   ]
  },
  {
   "cell_type": "code",
   "execution_count": 4,
   "metadata": {},
   "outputs": [
    {
     "data": {
      "text/plain": [
       "<Figure size 1600x900 with 4 Axes>"
      ]
     },
     "metadata": {},
     "output_type": "display_data"
    }
   ],
   "source": [
    "# 이미지 그래프로 확인\n",
    "import matplotlib.pyplot as plt\n",
    "\n",
    "plt.subplot(141)\n",
    "plt.imshow(X_train[6], interpolation=\"bicubic\")\n",
    "plt.subplot(142)\n",
    "plt.imshow(X_train[60], interpolation=\"bicubic\")\n",
    "plt.subplot(143)\n",
    "plt.imshow(X_train[600], interpolation=\"bicubic\")\n",
    "plt.subplot(144)\n",
    "plt.imshow(X_train[6000], interpolation=\"bicubic\")\n",
    "plt.show()"
   ]
  },
  {
   "cell_type": "markdown",
   "metadata": {},
   "source": [
    "## 데이터 변환 및 스케일링"
   ]
  },
  {
   "cell_type": "code",
   "execution_count": 5,
   "metadata": {},
   "outputs": [],
   "source": [
    "X_train = X_train.astype('float32') / 255.0  # 0~1사이의 값으로 변환 \n",
    "X_test = X_test.astype('float32') / 255.0\n",
    "y_train = np_utils.to_categorical(y_train0, 10)\n",
    "y_test = np_utils.to_categorical(y_test0, 10)"
   ]
  },
  {
   "cell_type": "code",
   "execution_count": 6,
   "metadata": {},
   "outputs": [
    {
     "name": "stdout",
     "output_type": "stream",
     "text": [
      "(50000, 32, 32, 3) float32 [0.23137255 0.24313726 0.24705882]\n"
     ]
    }
   ],
   "source": [
    "print(X_train.shape, X_train.dtype, X_train[0][0][0] )"
   ]
  },
  {
   "cell_type": "code",
   "execution_count": 7,
   "metadata": {},
   "outputs": [
    {
     "name": "stdout",
     "output_type": "stream",
     "text": [
      "[[0. 0. 0. 0. 0. 0. 1. 0. 0. 0.]\n",
      " [0. 0. 0. 0. 0. 0. 0. 0. 0. 1.]\n",
      " [0. 0. 0. 0. 0. 0. 0. 0. 0. 1.]\n",
      " [0. 0. 0. 0. 1. 0. 0. 0. 0. 0.]]\n"
     ]
    }
   ],
   "source": [
    "print(y_train[:4])"
   ]
  },
  {
   "cell_type": "markdown",
   "metadata": {},
   "source": [
    "## 모델 1 생성 및 컴파일"
   ]
  },
  {
   "cell_type": "code",
   "execution_count": 12,
   "metadata": {},
   "outputs": [
    {
     "name": "stdout",
     "output_type": "stream",
     "text": [
      "_________________________________________________________________\n",
      "Layer (type)                 Output Shape              Param #   \n",
      "=================================================================\n",
      "conv2d_13 (Conv2D)           (None, 32, 32, 32)        2432      \n",
      "_________________________________________________________________\n",
      "conv2d_14 (Conv2D)           (None, 32, 32, 32)        25632     \n",
      "_________________________________________________________________\n",
      "max_pooling2d_7 (MaxPooling2 (None, 16, 16, 32)        0         \n",
      "_________________________________________________________________\n",
      "dropout_9 (Dropout)          (None, 16, 16, 32)        0         \n",
      "_________________________________________________________________\n",
      "conv2d_15 (Conv2D)           (None, 16, 16, 64)        51264     \n",
      "_________________________________________________________________\n",
      "conv2d_16 (Conv2D)           (None, 16, 16, 64)        102464    \n",
      "_________________________________________________________________\n",
      "max_pooling2d_8 (MaxPooling2 (None, 8, 8, 64)          0         \n",
      "_________________________________________________________________\n",
      "dropout_10 (Dropout)         (None, 8, 8, 64)          0         \n",
      "_________________________________________________________________\n",
      "conv2d_17 (Conv2D)           (None, 8, 8, 128)         204928    \n",
      "_________________________________________________________________\n",
      "conv2d_18 (Conv2D)           (None, 8, 8, 128)         409728    \n",
      "_________________________________________________________________\n",
      "max_pooling2d_9 (MaxPooling2 (None, 4, 4, 128)         0         \n",
      "_________________________________________________________________\n",
      "dropout_11 (Dropout)         (None, 4, 4, 128)         0         \n",
      "_________________________________________________________________\n",
      "flatten_3 (Flatten)          (None, 2048)              0         \n",
      "_________________________________________________________________\n",
      "dense_5 (Dense)              (None, 128)               262272    \n",
      "_________________________________________________________________\n",
      "dropout_12 (Dropout)         (None, 128)               0         \n",
      "_________________________________________________________________\n",
      "dense_6 (Dense)              (None, 10)                1290      \n",
      "=================================================================\n",
      "Total params: 1,060,010\n",
      "Trainable params: 1,060,010\n",
      "Non-trainable params: 0\n",
      "_________________________________________________________________\n"
     ]
    }
   ],
   "source": [
    "np.random.seed(0)\n",
    "\n",
    "model = Sequential([\n",
    "    \n",
    "    Conv2D(32, (5,5), padding='same', input_shape=(32, 32, 3), activation='relu', kernel_regularizer=l2(0.001)),\n",
    "    Conv2D(32, (5,5), padding='same', activation='relu'), # elu, Leaky Relu(LRelu), Randomized Relu(RRelu)\n",
    "    MaxPooling2D(pool_size=(2,2)),\n",
    "    Dropout(.2),\n",
    "    \n",
    "    Conv2D(64, (5,5), padding='same', activation='relu', kernel_regularizer=l2(0.001)), # L2 규제 \n",
    "    Conv2D(64, (5,5), padding='same', activation='relu', kernel_regularizer=l2(0.001)),\n",
    "    MaxPooling2D(pool_size=(2,2)),\n",
    "    Dropout(.3),\n",
    "    \n",
    "    Conv2D(128, (5,5), padding='same', activation='relu', kernel_regularizer=l2(0.001)),\n",
    "    Conv2D(128, (5,5), padding='same', activation='relu', kernel_regularizer=l2(0.001)),\n",
    "    MaxPooling2D(pool_size=(2,2)),\n",
    "    Dropout(.4),     \n",
    "    \n",
    "    Flatten(),\n",
    "    Dense(128, activation='relu', kernel_regularizer=l2(0.001)),\n",
    "    Dropout(.5), \n",
    "    Dense(10, activation='softmax')\n",
    "])\n",
    "\n",
    "model.summary()"
   ]
  },
  {
   "cell_type": "code",
   "execution_count": 13,
   "metadata": {},
   "outputs": [],
   "source": [
    "# 모델 컴파일 \n",
    "model.compile(loss='categorical_crossentropy', \n",
    "                        optimizer='adam',  # 'adadelta'\n",
    "                        metrics=['accuracy'])"
   ]
  },
  {
   "cell_type": "markdown",
   "metadata": {},
   "source": [
    "## 모델 최적화"
   ]
  },
  {
   "cell_type": "code",
   "execution_count": 14,
   "metadata": {},
   "outputs": [],
   "source": [
    "MODEL_DIR = './CNN_cifar10_adam_model/'\n",
    "if not os.path.exists(MODEL_DIR):\n",
    "    os.mkdir(MODEL_DIR)\n",
    "\n",
    "modelpath=\"./CNN_cifar10_adam_model/{epoch:02d}-{val_loss:.4f}.hdf5\"\n",
    "    \n",
    "checkpoint = ModelCheckpoint(filepath=modelpath, monitor='val_loss', verbose=1, save_best_only=True)\n",
    "early_stopping_callback = EarlyStopping(monitor='val_loss', patience=10)"
   ]
  },
  {
   "cell_type": "code",
   "execution_count": 15,
   "metadata": {},
   "outputs": [
    {
     "name": "stderr",
     "output_type": "stream",
     "text": [
      "W0820 13:49:35.002697  1864 deprecation.py:323] From C:\\AN\\lib\\site-packages\\tensorflow\\python\\ops\\math_grad.py:1250: add_dispatch_support.<locals>.wrapper (from tensorflow.python.ops.array_ops) is deprecated and will be removed in a future version.\n",
      "Instructions for updating:\n",
      "Use tf.where in 2.0, which has the same broadcast rule as np.where\n"
     ]
    },
    {
     "name": "stdout",
     "output_type": "stream",
     "text": [
      "Train on 50000 samples, validate on 10000 samples\n",
      "Epoch 1/100\n",
      "50000/50000 [==============================] - 344s 7ms/step - loss: 2.1054 - acc: 0.2751 - val_loss: 1.7039 - val_acc: 0.4039\n",
      "\n",
      "Epoch 00001: val_loss improved from inf to 1.70388, saving model to ./CNN_cifar10_adam_model/01-1.7039.hdf5\n",
      "Epoch 2/100\n",
      "50000/50000 [==============================] - 318s 6ms/step - loss: 1.6603 - acc: 0.4178 - val_loss: 1.5171 - val_acc: 0.4781\n",
      "\n",
      "Epoch 00002: val_loss improved from 1.70388 to 1.51712, saving model to ./CNN_cifar10_adam_model/02-1.5171.hdf5\n",
      "Epoch 3/100\n",
      "50000/50000 [==============================] - 332s 7ms/step - loss: 1.5263 - acc: 0.4791 - val_loss: 1.3906 - val_acc: 0.5200\n",
      "\n",
      "Epoch 00003: val_loss improved from 1.51712 to 1.39062, saving model to ./CNN_cifar10_adam_model/03-1.3906.hdf5\n",
      "Epoch 4/100\n",
      "50000/50000 [==============================] - 333s 7ms/step - loss: 1.4361 - acc: 0.5216 - val_loss: 1.3045 - val_acc: 0.5692\n",
      "\n",
      "Epoch 00004: val_loss improved from 1.39062 to 1.30451, saving model to ./CNN_cifar10_adam_model/04-1.3045.hdf5\n",
      "Epoch 5/100\n",
      "50000/50000 [==============================] - 333s 7ms/step - loss: 1.3599 - acc: 0.5566 - val_loss: 1.2114 - val_acc: 0.6055\n",
      "\n",
      "Epoch 00005: val_loss improved from 1.30451 to 1.21142, saving model to ./CNN_cifar10_adam_model/05-1.2114.hdf5\n",
      "Epoch 6/100\n",
      "50000/50000 [==============================] - 344s 7ms/step - loss: 1.2914 - acc: 0.5856 - val_loss: 1.1688 - val_acc: 0.6356\n",
      "\n",
      "Epoch 00006: val_loss improved from 1.21142 to 1.16882, saving model to ./CNN_cifar10_adam_model/06-1.1688.hdf5\n",
      "Epoch 7/100\n",
      "50000/50000 [==============================] - 342s 7ms/step - loss: 1.2433 - acc: 0.6087 - val_loss: 1.1044 - val_acc: 0.6579\n",
      "\n",
      "Epoch 00007: val_loss improved from 1.16882 to 1.10440, saving model to ./CNN_cifar10_adam_model/07-1.1044.hdf5\n",
      "Epoch 8/100\n",
      "50000/50000 [==============================] - 345s 7ms/step - loss: 1.1949 - acc: 0.6292 - val_loss: 1.0581 - val_acc: 0.6813\n",
      "\n",
      "Epoch 00008: val_loss improved from 1.10440 to 1.05815, saving model to ./CNN_cifar10_adam_model/08-1.0581.hdf5\n",
      "Epoch 9/100\n",
      "50000/50000 [==============================] - 347s 7ms/step - loss: 1.1564 - acc: 0.6461 - val_loss: 1.0293 - val_acc: 0.6890\n",
      "\n",
      "Epoch 00009: val_loss improved from 1.05815 to 1.02929, saving model to ./CNN_cifar10_adam_model/09-1.0293.hdf5\n",
      "Epoch 10/100\n",
      "50000/50000 [==============================] - 346s 7ms/step - loss: 1.1327 - acc: 0.6613 - val_loss: 1.0357 - val_acc: 0.6913\n",
      "\n",
      "Epoch 00010: val_loss did not improve from 1.02929\n",
      "Epoch 11/100\n",
      "50000/50000 [==============================] - 346s 7ms/step - loss: 1.1099 - acc: 0.6730 - val_loss: 1.0926 - val_acc: 0.6826\n",
      "\n",
      "Epoch 00011: val_loss did not improve from 1.02929\n",
      "Epoch 12/100\n",
      "50000/50000 [==============================] - 334s 7ms/step - loss: 1.0903 - acc: 0.6841 - val_loss: 0.9891 - val_acc: 0.7188\n",
      "\n",
      "Epoch 00012: val_loss improved from 1.02929 to 0.98910, saving model to ./CNN_cifar10_adam_model/12-0.9891.hdf5\n",
      "Epoch 13/100\n",
      "50000/50000 [==============================] - 320s 6ms/step - loss: 1.0759 - acc: 0.6903 - val_loss: 0.9799 - val_acc: 0.7195\n",
      "\n",
      "Epoch 00013: val_loss improved from 0.98910 to 0.97995, saving model to ./CNN_cifar10_adam_model/13-0.9799.hdf5\n",
      "Epoch 14/100\n",
      "50000/50000 [==============================] - 361s 7ms/step - loss: 1.0661 - acc: 0.6946 - val_loss: 1.0355 - val_acc: 0.7067\n",
      "\n",
      "Epoch 00014: val_loss did not improve from 0.97995\n",
      "Epoch 15/100\n",
      "50000/50000 [==============================] - 348s 7ms/step - loss: 1.0464 - acc: 0.6999 - val_loss: 0.9538 - val_acc: 0.7348\n",
      "\n",
      "Epoch 00015: val_loss improved from 0.97995 to 0.95383, saving model to ./CNN_cifar10_adam_model/15-0.9538.hdf5\n",
      "Epoch 16/100\n",
      "50000/50000 [==============================] - 319s 6ms/step - loss: 1.0353 - acc: 0.7066 - val_loss: 1.0001 - val_acc: 0.7113\n",
      "\n",
      "Epoch 00016: val_loss did not improve from 0.95383\n",
      "Epoch 17/100\n",
      "50000/50000 [==============================] - 313s 6ms/step - loss: 1.0226 - acc: 0.7125 - val_loss: 0.9427 - val_acc: 0.7306\n",
      "\n",
      "Epoch 00017: val_loss improved from 0.95383 to 0.94270, saving model to ./CNN_cifar10_adam_model/17-0.9427.hdf5\n",
      "Epoch 18/100\n",
      "50000/50000 [==============================] - 329s 7ms/step - loss: 1.0206 - acc: 0.7150 - val_loss: 0.9242 - val_acc: 0.7428\n",
      "\n",
      "Epoch 00018: val_loss improved from 0.94270 to 0.92422, saving model to ./CNN_cifar10_adam_model/18-0.9242.hdf5\n",
      "Epoch 19/100\n",
      "50000/50000 [==============================] - 323s 6ms/step - loss: 1.0090 - acc: 0.7208 - val_loss: 0.9465 - val_acc: 0.7396\n",
      "\n",
      "Epoch 00019: val_loss did not improve from 0.92422\n",
      "Epoch 20/100\n",
      "50000/50000 [==============================] - 312s 6ms/step - loss: 0.9978 - acc: 0.7244 - val_loss: 0.9081 - val_acc: 0.7525\n",
      "\n",
      "Epoch 00020: val_loss improved from 0.92422 to 0.90811, saving model to ./CNN_cifar10_adam_model/20-0.9081.hdf5\n",
      "Epoch 21/100\n",
      "50000/50000 [==============================] - 316s 6ms/step - loss: 0.9943 - acc: 0.7248 - val_loss: 0.9033 - val_acc: 0.7529\n",
      "\n",
      "Epoch 00021: val_loss improved from 0.90811 to 0.90326, saving model to ./CNN_cifar10_adam_model/21-0.9033.hdf5\n",
      "Epoch 22/100\n",
      "50000/50000 [==============================] - 363s 7ms/step - loss: 0.9923 - acc: 0.7298 - val_loss: 0.9185 - val_acc: 0.7500\n",
      "\n",
      "Epoch 00022: val_loss did not improve from 0.90326\n",
      "Epoch 23/100\n",
      "50000/50000 [==============================] - 314s 6ms/step - loss: 0.9785 - acc: 0.7343 - val_loss: 0.9225 - val_acc: 0.7491\n",
      "\n",
      "Epoch 00023: val_loss did not improve from 0.90326\n",
      "Epoch 24/100\n",
      "50000/50000 [==============================] - 310s 6ms/step - loss: 0.9754 - acc: 0.7357 - val_loss: 0.9875 - val_acc: 0.7286\n",
      "\n",
      "Epoch 00024: val_loss did not improve from 0.90326\n",
      "Epoch 25/100\n",
      "50000/50000 [==============================] - 307s 6ms/step - loss: 0.9666 - acc: 0.7394 - val_loss: 0.8899 - val_acc: 0.7552\n",
      "\n",
      "Epoch 00025: val_loss improved from 0.90326 to 0.88994, saving model to ./CNN_cifar10_adam_model/25-0.8899.hdf5\n",
      "Epoch 26/100\n",
      "50000/50000 [==============================] - 305s 6ms/step - loss: 0.9634 - acc: 0.7413 - val_loss: 0.8805 - val_acc: 0.7612\n",
      "\n",
      "Epoch 00026: val_loss improved from 0.88994 to 0.88054, saving model to ./CNN_cifar10_adam_model/26-0.8805.hdf5\n",
      "Epoch 27/100\n",
      "50000/50000 [==============================] - 308s 6ms/step - loss: 0.9606 - acc: 0.7432 - val_loss: 0.8892 - val_acc: 0.7586\n",
      "\n",
      "Epoch 00027: val_loss did not improve from 0.88054\n",
      "Epoch 28/100\n",
      "50000/50000 [==============================] - 307s 6ms/step - loss: 0.9549 - acc: 0.7443 - val_loss: 0.8977 - val_acc: 0.7605\n",
      "\n",
      "Epoch 00028: val_loss did not improve from 0.88054\n",
      "Epoch 29/100\n",
      "50000/50000 [==============================] - 306s 6ms/step - loss: 0.9542 - acc: 0.7439 - val_loss: 0.8934 - val_acc: 0.7624\n",
      "\n",
      "Epoch 00029: val_loss did not improve from 0.88054\n",
      "Epoch 30/100\n",
      "50000/50000 [==============================] - 305s 6ms/step - loss: 0.9492 - acc: 0.7462 - val_loss: 0.9005 - val_acc: 0.7664\n",
      "\n",
      "Epoch 00030: val_loss did not improve from 0.88054\n",
      "Epoch 31/100\n",
      "50000/50000 [==============================] - 306s 6ms/step - loss: 0.9380 - acc: 0.7529 - val_loss: 0.9269 - val_acc: 0.7523\n",
      "\n",
      "Epoch 00031: val_loss did not improve from 0.88054\n",
      "Epoch 32/100\n",
      "50000/50000 [==============================] - 314s 6ms/step - loss: 0.9457 - acc: 0.7511 - val_loss: 0.8656 - val_acc: 0.7700\n",
      "\n",
      "Epoch 00032: val_loss improved from 0.88054 to 0.86562, saving model to ./CNN_cifar10_adam_model/32-0.8656.hdf5\n",
      "Epoch 33/100\n",
      "50000/50000 [==============================] - 311s 6ms/step - loss: 0.9456 - acc: 0.7506 - val_loss: 0.8643 - val_acc: 0.7739\n",
      "\n",
      "Epoch 00033: val_loss improved from 0.86562 to 0.86433, saving model to ./CNN_cifar10_adam_model/33-0.8643.hdf5\n",
      "Epoch 34/100\n",
      "50000/50000 [==============================] - 316s 6ms/step - loss: 0.9364 - acc: 0.7553 - val_loss: 0.9269 - val_acc: 0.7520\n",
      "\n",
      "Epoch 00034: val_loss did not improve from 0.86433\n",
      "Epoch 35/100\n",
      "50000/50000 [==============================] - 340s 7ms/step - loss: 0.9355 - acc: 0.7529 - val_loss: 0.8719 - val_acc: 0.7686\n",
      "\n",
      "Epoch 00035: val_loss did not improve from 0.86433\n",
      "Epoch 36/100\n",
      "50000/50000 [==============================] - 361s 7ms/step - loss: 0.9265 - acc: 0.7583 - val_loss: 0.8578 - val_acc: 0.7774\n",
      "\n",
      "Epoch 00036: val_loss improved from 0.86433 to 0.85783, saving model to ./CNN_cifar10_adam_model/36-0.8578.hdf5\n",
      "Epoch 37/100\n"
     ]
    },
    {
     "name": "stdout",
     "output_type": "stream",
     "text": [
      "50000/50000 [==============================] - 354s 7ms/step - loss: 0.9279 - acc: 0.7571 - val_loss: 0.8570 - val_acc: 0.7763\n",
      "\n",
      "Epoch 00037: val_loss improved from 0.85783 to 0.85703, saving model to ./CNN_cifar10_adam_model/37-0.8570.hdf5\n",
      "Epoch 38/100\n",
      "50000/50000 [==============================] - 352s 7ms/step - loss: 0.9209 - acc: 0.7596 - val_loss: 0.8755 - val_acc: 0.7715\n",
      "\n",
      "Epoch 00038: val_loss did not improve from 0.85703\n",
      "Epoch 39/100\n",
      "50000/50000 [==============================] - 339s 7ms/step - loss: 0.9233 - acc: 0.7579 - val_loss: 0.8578 - val_acc: 0.7782\n",
      "\n",
      "Epoch 00039: val_loss did not improve from 0.85703\n",
      "Epoch 40/100\n",
      "50000/50000 [==============================] - 333s 7ms/step - loss: 0.9210 - acc: 0.7587 - val_loss: 0.8682 - val_acc: 0.7719\n",
      "\n",
      "Epoch 00040: val_loss did not improve from 0.85703\n",
      "Epoch 41/100\n",
      "50000/50000 [==============================] - 318s 6ms/step - loss: 0.9151 - acc: 0.7628 - val_loss: 0.8534 - val_acc: 0.7832\n",
      "\n",
      "Epoch 00041: val_loss improved from 0.85703 to 0.85336, saving model to ./CNN_cifar10_adam_model/41-0.8534.hdf5\n",
      "Epoch 42/100\n",
      "50000/50000 [==============================] - 312s 6ms/step - loss: 0.9120 - acc: 0.7630 - val_loss: 0.8398 - val_acc: 0.7827\n",
      "\n",
      "Epoch 00042: val_loss improved from 0.85336 to 0.83977, saving model to ./CNN_cifar10_adam_model/42-0.8398.hdf5\n",
      "Epoch 43/100\n",
      "50000/50000 [==============================] - 318s 6ms/step - loss: 0.9125 - acc: 0.7638 - val_loss: 0.8648 - val_acc: 0.7765\n",
      "\n",
      "Epoch 00043: val_loss did not improve from 0.83977\n",
      "Epoch 44/100\n",
      "50000/50000 [==============================] - 321s 6ms/step - loss: 0.9134 - acc: 0.7640 - val_loss: 0.8494 - val_acc: 0.7808\n",
      "\n",
      "Epoch 00044: val_loss did not improve from 0.83977\n",
      "Epoch 45/100\n",
      "50000/50000 [==============================] - 313s 6ms/step - loss: 0.9072 - acc: 0.7644 - val_loss: 0.8645 - val_acc: 0.7788\n",
      "\n",
      "Epoch 00045: val_loss did not improve from 0.83977\n",
      "Epoch 46/100\n",
      "50000/50000 [==============================] - 317s 6ms/step - loss: 0.9007 - acc: 0.7678 - val_loss: 0.8777 - val_acc: 0.7672\n",
      "\n",
      "Epoch 00046: val_loss did not improve from 0.83977\n",
      "Epoch 47/100\n",
      "50000/50000 [==============================] - 323s 6ms/step - loss: 0.9141 - acc: 0.7627 - val_loss: 0.8442 - val_acc: 0.7836\n",
      "\n",
      "Epoch 00047: val_loss did not improve from 0.83977\n",
      "Epoch 48/100\n",
      "50000/50000 [==============================] - 323s 6ms/step - loss: 0.9054 - acc: 0.7681 - val_loss: 0.8685 - val_acc: 0.7725\n",
      "\n",
      "Epoch 00048: val_loss did not improve from 0.83977\n",
      "Epoch 49/100\n",
      "50000/50000 [==============================] - 330s 7ms/step - loss: 0.9071 - acc: 0.7653 - val_loss: 0.8965 - val_acc: 0.7711\n",
      "\n",
      "Epoch 00049: val_loss did not improve from 0.83977\n",
      "Epoch 50/100\n",
      "50000/50000 [==============================] - 319s 6ms/step - loss: 0.9020 - acc: 0.7687 - val_loss: 0.9419 - val_acc: 0.7516\n",
      "\n",
      "Epoch 00050: val_loss did not improve from 0.83977\n",
      "Epoch 51/100\n",
      "50000/50000 [==============================] - 323s 6ms/step - loss: 0.8986 - acc: 0.7693 - val_loss: 0.8479 - val_acc: 0.7806\n",
      "\n",
      "Epoch 00051: val_loss did not improve from 0.83977\n",
      "Epoch 52/100\n",
      "50000/50000 [==============================] - 313s 6ms/step - loss: 0.8976 - acc: 0.7726 - val_loss: 0.8785 - val_acc: 0.7672\n",
      "\n",
      "Epoch 00052: val_loss did not improve from 0.83977\n"
     ]
    }
   ],
   "source": [
    "history = model.fit(X_train, y_train, batch_size=100, epochs=50, validation_data=[X_test, y_test],\n",
    "          verbose=1, callbacks=[early_stopping_callback, checkpoint])"
   ]
  },
  {
   "cell_type": "markdown",
   "metadata": {},
   "source": [
    "## 모델 예측 정확도 "
   ]
  },
  {
   "cell_type": "code",
   "execution_count": 16,
   "metadata": {},
   "outputs": [
    {
     "name": "stdout",
     "output_type": "stream",
     "text": [
      "10000/10000 [==============================] - 9s 918us/step\n",
      "\n",
      " Test Accuracy: 0.7672\n"
     ]
    }
   ],
   "source": [
    "# 테스트 정확도 출력\n",
    "print(\"\\n Test Accuracy: %.4f\" % (model.evaluate(X_test, y_test)[1]))"
   ]
  },
  {
   "cell_type": "markdown",
   "metadata": {},
   "source": [
    "## 모델 학습 과정 시각화"
   ]
  },
  {
   "cell_type": "code",
   "execution_count": 104,
   "metadata": {},
   "outputs": [],
   "source": [
    "import matplotlib as mpl\n",
    "import matplotlib.pyplot as plt\n",
    "import matplotlib.font_manager as fm\n",
    "\n",
    "font_fname = 'C:/Windows/Fonts/NanumGothic.ttf'  # 원하는 폰트 \n",
    "font_family = fm.FontProperties(fname=font_fname).get_name()\n",
    "\n",
    "%matplotlib inline "
   ]
  },
  {
   "cell_type": "code",
   "execution_count": 105,
   "metadata": {},
   "outputs": [],
   "source": [
    "y_loss = history.history['loss']        # 훈련 손실값\n",
    "y_vloss = history.history['val_loss']   # 검증 손실값\n",
    "\n",
    "y_acc = history.history['acc']          # 훈련 정확도 \n",
    "y_vacc = history.history['val_acc']     # 검증 정확도\n",
    "\n",
    "x_len = np.arange(1, len(y_loss)+1)     # x축 "
   ]
  },
  {
   "cell_type": "code",
   "execution_count": 106,
   "metadata": {},
   "outputs": [
    {
     "data": {
      "image/png": "[encoded data removed]",
      "text/plain": [
       "<Figure size 864x576 with 2 Axes>"
      ]
     },
     "metadata": {
      "needs_background": "light"
     },
     "output_type": "display_data"
    }
   ],
   "source": [
    "plt.rcParams[\"font.size\"] = 18\n",
    "plt.figure(figsize=(12, 8))\n",
    "\n",
    "ax1, ax2= plt.gca(), plt.gca().twinx() # 원래 주어진 axis, x를 공유하는 쌍둥이 axis \n",
    "ax1.plot(x_len, y_vloss, color='red', label='val_loss')\n",
    "ax1.plot(x_len, y_loss, color='y', label='loss')\n",
    "ax2.plot(x_len, y_vacc, color='b', label='val_acc')\n",
    "ax2.plot(x_len, y_acc, color='g', label='acc')\n",
    "\n",
    "ax1.set_xlabel('epoch', size=20)  # 라벨 설정 \n",
    "ax1.set_ylabel('loss', size=20)\n",
    "ax2.set_ylabel('accuracy', size=20)\n",
    "\n",
    "ax1.legend(loc='lower left')\n",
    "ax2.legend(loc='upper left')\n",
    "\n",
    "plt.grid()\n",
    "plt.show()"
   ]
  },
  {
   "cell_type": "markdown",
   "metadata": {},
   "source": [
    "## 모델 2"
   ]
  },
  {
   "cell_type": "code",
   "execution_count": 107,
   "metadata": {},
   "outputs": [
    {
     "name": "stdout",
     "output_type": "stream",
     "text": [
      "_________________________________________________________________\n",
      "Layer (type)                 Output Shape              Param #   \n",
      "=================================================================\n",
      "conv2d_71 (Conv2D)           (None, 32, 32, 32)        896       \n",
      "_________________________________________________________________\n",
      "batch_normalization_49 (Batc (None, 32, 32, 32)        128       \n",
      "_________________________________________________________________\n",
      "max_pooling2d_49 (MaxPooling (None, 16, 16, 32)        0         \n",
      "_________________________________________________________________\n",
      "dropout_65 (Dropout)         (None, 16, 16, 32)        0         \n",
      "_________________________________________________________________\n",
      "conv2d_72 (Conv2D)           (None, 16, 16, 64)        18496     \n",
      "_________________________________________________________________\n",
      "batch_normalization_50 (Batc (None, 16, 16, 64)        256       \n",
      "_________________________________________________________________\n",
      "max_pooling2d_50 (MaxPooling (None, 8, 8, 64)          0         \n",
      "_________________________________________________________________\n",
      "dropout_66 (Dropout)         (None, 8, 8, 64)          0         \n",
      "_________________________________________________________________\n",
      "conv2d_73 (Conv2D)           (None, 8, 8, 128)         73856     \n",
      "_________________________________________________________________\n",
      "batch_normalization_51 (Batc (None, 8, 8, 128)         512       \n",
      "_________________________________________________________________\n",
      "max_pooling2d_51 (MaxPooling (None, 4, 4, 128)         0         \n",
      "_________________________________________________________________\n",
      "dropout_67 (Dropout)         (None, 4, 4, 128)         0         \n",
      "_________________________________________________________________\n",
      "flatten_17 (Flatten)         (None, 2048)              0         \n",
      "_________________________________________________________________\n",
      "dense_33 (Dense)             (None, 128)               262272    \n",
      "_________________________________________________________________\n",
      "dropout_68 (Dropout)         (None, 128)               0         \n",
      "_________________________________________________________________\n",
      "dense_34 (Dense)             (None, 10)                1290      \n",
      "=================================================================\n",
      "Total params: 357,706\n",
      "Trainable params: 357,258\n",
      "Non-trainable params: 448\n",
      "_________________________________________________________________\n"
     ]
    }
   ],
   "source": [
    "np.random.seed(0)\n",
    "\n",
    "model2 = Sequential([\n",
    "    \n",
    "    Conv2D(32, (3,3), padding='same', input_shape=(32, 32, 3), activation='relu', kernel_regularizer=l2(0.001)),\n",
    "    BatchNormalization(),\n",
    "    MaxPooling2D(pool_size=(2,2)),\n",
    "    Dropout(.2),\n",
    "    \n",
    "    Conv2D(64, (3,3), padding='same', activation='relu', kernel_regularizer=l2(0.001)), # L2 규제 \n",
    "    BatchNormalization(),\n",
    "    MaxPooling2D(pool_size=(2,2)),\n",
    "    Dropout(.3),\n",
    "    \n",
    "    Conv2D(128, (3,3), padding='same', activation='relu', kernel_regularizer=l2(0.001)),\n",
    "    BatchNormalization(),\n",
    "    MaxPooling2D(pool_size=(2,2)),\n",
    "    Dropout(.4),     \n",
    "    \n",
    "    Flatten(),\n",
    "    Dense(128, activation='relu', kernel_regularizer=l2(0.001)),\n",
    "    Dropout(.5), \n",
    "    Dense(10, activation='softmax')\n",
    "])\n",
    "\n",
    "model2.summary()"
   ]
  },
  {
   "cell_type": "code",
   "execution_count": 108,
   "metadata": {},
   "outputs": [],
   "source": [
    "# 모델 컴파일 \n",
    "model2.compile(loss='categorical_crossentropy', \n",
    "                        optimizer='adam',  # 'adadelta'\n",
    "                        metrics=['accuracy'])"
   ]
  },
  {
   "cell_type": "code",
   "execution_count": 109,
   "metadata": {},
   "outputs": [],
   "source": [
    "MODEL_DIR = './CNN_cifar10_adam_model_2/'\n",
    "if not os.path.exists(MODEL_DIR):\n",
    "    os.mkdir(MODEL_DIR)\n",
    "\n",
    "modelpath=\"./CNN_cifar10_adam_model_2/{epoch:02d}-{val_loss:.4f}.hdf5\"\n",
    "    \n",
    "checkpoint = ModelCheckpoint(filepath=modelpath, monitor='val_loss', verbose=1, save_best_only=True)\n",
    "early_stopping_callback = EarlyStopping(monitor='val_loss', patience=10)"
   ]
  },
  {
   "cell_type": "code",
   "execution_count": 110,
   "metadata": {},
   "outputs": [
    {
     "name": "stdout",
     "output_type": "stream",
     "text": [
      "Train on 50000 samples, validate on 10000 samples\n",
      "Epoch 1/50\n",
      "50000/50000 [==============================] - 160s 3ms/step - loss: 2.1730 - acc: 0.3291 - val_loss: 1.7348 - val_acc: 0.5006\n",
      "\n",
      "Epoch 00001: val_loss improved from inf to 1.73479, saving model to ./CNN_cifar10_adam_model_2/01-1.7348.hdf5\n",
      "Epoch 2/50\n",
      "50000/50000 [==============================] - 156s 3ms/step - loss: 1.7419 - acc: 0.4684 - val_loss: 1.5815 - val_acc: 0.5204\n",
      "\n",
      "Epoch 00002: val_loss improved from 1.73479 to 1.58147, saving model to ./CNN_cifar10_adam_model_2/02-1.5815.hdf5\n",
      "Epoch 3/50\n",
      "50000/50000 [==============================] - 161s 3ms/step - loss: 1.5757 - acc: 0.5386 - val_loss: 1.4985 - val_acc: 0.5516\n",
      "\n",
      "Epoch 00003: val_loss improved from 1.58147 to 1.49851, saving model to ./CNN_cifar10_adam_model_2/03-1.4985.hdf5\n",
      "Epoch 4/50\n",
      "50000/50000 [==============================] - 170s 3ms/step - loss: 1.4951 - acc: 0.5831 - val_loss: 1.3575 - val_acc: 0.6397\n",
      "\n",
      "Epoch 00004: val_loss improved from 1.49851 to 1.35747, saving model to ./CNN_cifar10_adam_model_2/04-1.3575.hdf5\n",
      "Epoch 5/50\n",
      "50000/50000 [==============================] - 166s 3ms/step - loss: 1.4407 - acc: 0.6170 - val_loss: 1.4094 - val_acc: 0.6227\n",
      "\n",
      "Epoch 00005: val_loss did not improve from 1.35747\n",
      "Epoch 6/50\n",
      "50000/50000 [==============================] - 166s 3ms/step - loss: 1.3944 - acc: 0.6386 - val_loss: 1.3539 - val_acc: 0.6627\n",
      "\n",
      "Epoch 00006: val_loss improved from 1.35747 to 1.35394, saving model to ./CNN_cifar10_adam_model_2/06-1.3539.hdf5\n",
      "Epoch 7/50\n",
      "50000/50000 [==============================] - 164s 3ms/step - loss: 1.3588 - acc: 0.6548 - val_loss: 1.2078 - val_acc: 0.7057\n",
      "\n",
      "Epoch 00007: val_loss improved from 1.35394 to 1.20778, saving model to ./CNN_cifar10_adam_model_2/07-1.2078.hdf5\n"
     ]
    },
    {
     "ename": "OSError",
     "evalue": "Unable to create file (unable to open file: name = './CNN_cifar10_adam_model_2/07-1.2078.hdf5', errno = 2, error message = 'No such file or directory', flags = 13, o_flags = 302)",
     "output_type": "error",
     "traceback": [
      "\u001b[1;31m---------------------------------------------------------------------------\u001b[0m",
      "\u001b[1;31mOSError\u001b[0m                                   Traceback (most recent call last)",
      "\u001b[1;32m<ipython-input-110-fef68985ba9e>\u001b[0m in \u001b[0;36m<module>\u001b[1;34m\u001b[0m\n\u001b[0;32m      1\u001b[0m history2 = model2.fit(X_train, y_train, batch_size=50, epochs=50, validation_data=[X_test, y_test],\n\u001b[1;32m----> 2\u001b[1;33m           verbose=1, callbacks=[early_stopping_callback, checkpoint])\n\u001b[0m",
      "\u001b[1;32mC:\\AN\\lib\\site-packages\\keras\\engine\\training.py\u001b[0m in \u001b[0;36mfit\u001b[1;34m(self, x, y, batch_size, epochs, verbose, callbacks, validation_split, validation_data, shuffle, class_weight, sample_weight, initial_epoch, steps_per_epoch, validation_steps, **kwargs)\u001b[0m\n\u001b[0;32m   1037\u001b[0m                                         \u001b[0minitial_epoch\u001b[0m\u001b[1;33m=\u001b[0m\u001b[0minitial_epoch\u001b[0m\u001b[1;33m,\u001b[0m\u001b[1;33m\u001b[0m\u001b[1;33m\u001b[0m\u001b[0m\n\u001b[0;32m   1038\u001b[0m                                         \u001b[0msteps_per_epoch\u001b[0m\u001b[1;33m=\u001b[0m\u001b[0msteps_per_epoch\u001b[0m\u001b[1;33m,\u001b[0m\u001b[1;33m\u001b[0m\u001b[1;33m\u001b[0m\u001b[0m\n\u001b[1;32m-> 1039\u001b[1;33m                                         validation_steps=validation_steps)\n\u001b[0m\u001b[0;32m   1040\u001b[0m \u001b[1;33m\u001b[0m\u001b[0m\n\u001b[0;32m   1041\u001b[0m     def evaluate(self, x=None, y=None,\n",
      "\u001b[1;32mC:\\AN\\lib\\site-packages\\keras\\engine\\training_arrays.py\u001b[0m in \u001b[0;36mfit_loop\u001b[1;34m(model, f, ins, out_labels, batch_size, epochs, verbose, callbacks, val_f, val_ins, shuffle, callback_metrics, initial_epoch, steps_per_epoch, validation_steps)\u001b[0m\n\u001b[0;32m    215\u001b[0m                         \u001b[1;32mfor\u001b[0m \u001b[0ml\u001b[0m\u001b[1;33m,\u001b[0m \u001b[0mo\u001b[0m \u001b[1;32min\u001b[0m \u001b[0mzip\u001b[0m\u001b[1;33m(\u001b[0m\u001b[0mout_labels\u001b[0m\u001b[1;33m,\u001b[0m \u001b[0mval_outs\u001b[0m\u001b[1;33m)\u001b[0m\u001b[1;33m:\u001b[0m\u001b[1;33m\u001b[0m\u001b[1;33m\u001b[0m\u001b[0m\n\u001b[0;32m    216\u001b[0m                             \u001b[0mepoch_logs\u001b[0m\u001b[1;33m[\u001b[0m\u001b[1;34m'val_'\u001b[0m \u001b[1;33m+\u001b[0m \u001b[0ml\u001b[0m\u001b[1;33m]\u001b[0m \u001b[1;33m=\u001b[0m \u001b[0mo\u001b[0m\u001b[1;33m\u001b[0m\u001b[1;33m\u001b[0m\u001b[0m\n\u001b[1;32m--> 217\u001b[1;33m         \u001b[0mcallbacks\u001b[0m\u001b[1;33m.\u001b[0m\u001b[0mon_epoch_end\u001b[0m\u001b[1;33m(\u001b[0m\u001b[0mepoch\u001b[0m\u001b[1;33m,\u001b[0m \u001b[0mepoch_logs\u001b[0m\u001b[1;33m)\u001b[0m\u001b[1;33m\u001b[0m\u001b[1;33m\u001b[0m\u001b[0m\n\u001b[0m\u001b[0;32m    218\u001b[0m         \u001b[1;32mif\u001b[0m \u001b[0mcallback_model\u001b[0m\u001b[1;33m.\u001b[0m\u001b[0mstop_training\u001b[0m\u001b[1;33m:\u001b[0m\u001b[1;33m\u001b[0m\u001b[1;33m\u001b[0m\u001b[0m\n\u001b[0;32m    219\u001b[0m             \u001b[1;32mbreak\u001b[0m\u001b[1;33m\u001b[0m\u001b[1;33m\u001b[0m\u001b[0m\n",
      "\u001b[1;32mC:\\AN\\lib\\site-packages\\keras\\callbacks.py\u001b[0m in \u001b[0;36mon_epoch_end\u001b[1;34m(self, epoch, logs)\u001b[0m\n\u001b[0;32m     77\u001b[0m         \u001b[0mlogs\u001b[0m \u001b[1;33m=\u001b[0m \u001b[0mlogs\u001b[0m \u001b[1;32mor\u001b[0m \u001b[1;33m{\u001b[0m\u001b[1;33m}\u001b[0m\u001b[1;33m\u001b[0m\u001b[1;33m\u001b[0m\u001b[0m\n\u001b[0;32m     78\u001b[0m         \u001b[1;32mfor\u001b[0m \u001b[0mcallback\u001b[0m \u001b[1;32min\u001b[0m \u001b[0mself\u001b[0m\u001b[1;33m.\u001b[0m\u001b[0mcallbacks\u001b[0m\u001b[1;33m:\u001b[0m\u001b[1;33m\u001b[0m\u001b[1;33m\u001b[0m\u001b[0m\n\u001b[1;32m---> 79\u001b[1;33m             \u001b[0mcallback\u001b[0m\u001b[1;33m.\u001b[0m\u001b[0mon_epoch_end\u001b[0m\u001b[1;33m(\u001b[0m\u001b[0mepoch\u001b[0m\u001b[1;33m,\u001b[0m \u001b[0mlogs\u001b[0m\u001b[1;33m)\u001b[0m\u001b[1;33m\u001b[0m\u001b[1;33m\u001b[0m\u001b[0m\n\u001b[0m\u001b[0;32m     80\u001b[0m \u001b[1;33m\u001b[0m\u001b[0m\n\u001b[0;32m     81\u001b[0m     \u001b[1;32mdef\u001b[0m \u001b[0mon_batch_begin\u001b[0m\u001b[1;33m(\u001b[0m\u001b[0mself\u001b[0m\u001b[1;33m,\u001b[0m \u001b[0mbatch\u001b[0m\u001b[1;33m,\u001b[0m \u001b[0mlogs\u001b[0m\u001b[1;33m=\u001b[0m\u001b[1;32mNone\u001b[0m\u001b[1;33m)\u001b[0m\u001b[1;33m:\u001b[0m\u001b[1;33m\u001b[0m\u001b[1;33m\u001b[0m\u001b[0m\n",
      "\u001b[1;32mC:\\AN\\lib\\site-packages\\keras\\callbacks.py\u001b[0m in \u001b[0;36mon_epoch_end\u001b[1;34m(self, epoch, logs)\u001b[0m\n\u001b[0;32m    444\u001b[0m                             \u001b[0mself\u001b[0m\u001b[1;33m.\u001b[0m\u001b[0mmodel\u001b[0m\u001b[1;33m.\u001b[0m\u001b[0msave_weights\u001b[0m\u001b[1;33m(\u001b[0m\u001b[0mfilepath\u001b[0m\u001b[1;33m,\u001b[0m \u001b[0moverwrite\u001b[0m\u001b[1;33m=\u001b[0m\u001b[1;32mTrue\u001b[0m\u001b[1;33m)\u001b[0m\u001b[1;33m\u001b[0m\u001b[1;33m\u001b[0m\u001b[0m\n\u001b[0;32m    445\u001b[0m                         \u001b[1;32melse\u001b[0m\u001b[1;33m:\u001b[0m\u001b[1;33m\u001b[0m\u001b[1;33m\u001b[0m\u001b[0m\n\u001b[1;32m--> 446\u001b[1;33m                             \u001b[0mself\u001b[0m\u001b[1;33m.\u001b[0m\u001b[0mmodel\u001b[0m\u001b[1;33m.\u001b[0m\u001b[0msave\u001b[0m\u001b[1;33m(\u001b[0m\u001b[0mfilepath\u001b[0m\u001b[1;33m,\u001b[0m \u001b[0moverwrite\u001b[0m\u001b[1;33m=\u001b[0m\u001b[1;32mTrue\u001b[0m\u001b[1;33m)\u001b[0m\u001b[1;33m\u001b[0m\u001b[1;33m\u001b[0m\u001b[0m\n\u001b[0m\u001b[0;32m    447\u001b[0m                     \u001b[1;32melse\u001b[0m\u001b[1;33m:\u001b[0m\u001b[1;33m\u001b[0m\u001b[1;33m\u001b[0m\u001b[0m\n\u001b[0;32m    448\u001b[0m                         \u001b[1;32mif\u001b[0m \u001b[0mself\u001b[0m\u001b[1;33m.\u001b[0m\u001b[0mverbose\u001b[0m \u001b[1;33m>\u001b[0m \u001b[1;36m0\u001b[0m\u001b[1;33m:\u001b[0m\u001b[1;33m\u001b[0m\u001b[1;33m\u001b[0m\u001b[0m\n",
      "\u001b[1;32mC:\\AN\\lib\\site-packages\\keras\\engine\\network.py\u001b[0m in \u001b[0;36msave\u001b[1;34m(self, filepath, overwrite, include_optimizer)\u001b[0m\n\u001b[0;32m   1088\u001b[0m             \u001b[1;32mraise\u001b[0m \u001b[0mNotImplementedError\u001b[0m\u001b[1;33m\u001b[0m\u001b[1;33m\u001b[0m\u001b[0m\n\u001b[0;32m   1089\u001b[0m         \u001b[1;32mfrom\u001b[0m \u001b[1;33m.\u001b[0m\u001b[1;33m.\u001b[0m\u001b[0mmodels\u001b[0m \u001b[1;32mimport\u001b[0m \u001b[0msave_model\u001b[0m\u001b[1;33m\u001b[0m\u001b[1;33m\u001b[0m\u001b[0m\n\u001b[1;32m-> 1090\u001b[1;33m         \u001b[0msave_model\u001b[0m\u001b[1;33m(\u001b[0m\u001b[0mself\u001b[0m\u001b[1;33m,\u001b[0m \u001b[0mfilepath\u001b[0m\u001b[1;33m,\u001b[0m \u001b[0moverwrite\u001b[0m\u001b[1;33m,\u001b[0m \u001b[0minclude_optimizer\u001b[0m\u001b[1;33m)\u001b[0m\u001b[1;33m\u001b[0m\u001b[1;33m\u001b[0m\u001b[0m\n\u001b[0m\u001b[0;32m   1091\u001b[0m \u001b[1;33m\u001b[0m\u001b[0m\n\u001b[0;32m   1092\u001b[0m     \u001b[1;32mdef\u001b[0m \u001b[0msave_weights\u001b[0m\u001b[1;33m(\u001b[0m\u001b[0mself\u001b[0m\u001b[1;33m,\u001b[0m \u001b[0mfilepath\u001b[0m\u001b[1;33m,\u001b[0m \u001b[0moverwrite\u001b[0m\u001b[1;33m=\u001b[0m\u001b[1;32mTrue\u001b[0m\u001b[1;33m)\u001b[0m\u001b[1;33m:\u001b[0m\u001b[1;33m\u001b[0m\u001b[1;33m\u001b[0m\u001b[0m\n",
      "\u001b[1;32mC:\\AN\\lib\\site-packages\\keras\\engine\\saving.py\u001b[0m in \u001b[0;36msave_model\u001b[1;34m(model, filepath, overwrite, include_optimizer)\u001b[0m\n\u001b[0;32m    377\u001b[0m         \u001b[0mopened_new_file\u001b[0m \u001b[1;33m=\u001b[0m \u001b[1;32mFalse\u001b[0m\u001b[1;33m\u001b[0m\u001b[1;33m\u001b[0m\u001b[0m\n\u001b[0;32m    378\u001b[0m \u001b[1;33m\u001b[0m\u001b[0m\n\u001b[1;32m--> 379\u001b[1;33m     \u001b[0mf\u001b[0m \u001b[1;33m=\u001b[0m \u001b[0mh5dict\u001b[0m\u001b[1;33m(\u001b[0m\u001b[0mfilepath\u001b[0m\u001b[1;33m,\u001b[0m \u001b[0mmode\u001b[0m\u001b[1;33m=\u001b[0m\u001b[1;34m'w'\u001b[0m\u001b[1;33m)\u001b[0m\u001b[1;33m\u001b[0m\u001b[1;33m\u001b[0m\u001b[0m\n\u001b[0m\u001b[0;32m    380\u001b[0m \u001b[1;33m\u001b[0m\u001b[0m\n\u001b[0;32m    381\u001b[0m     \u001b[1;32mtry\u001b[0m\u001b[1;33m:\u001b[0m\u001b[1;33m\u001b[0m\u001b[1;33m\u001b[0m\u001b[0m\n",
      "\u001b[1;32mC:\\AN\\lib\\site-packages\\keras\\utils\\io_utils.py\u001b[0m in \u001b[0;36m__init__\u001b[1;34m(self, path, mode)\u001b[0m\n\u001b[0;32m    184\u001b[0m             \u001b[0mself\u001b[0m\u001b[1;33m.\u001b[0m\u001b[0m_is_file\u001b[0m \u001b[1;33m=\u001b[0m \u001b[1;32mFalse\u001b[0m\u001b[1;33m\u001b[0m\u001b[1;33m\u001b[0m\u001b[0m\n\u001b[0;32m    185\u001b[0m         \u001b[1;32melif\u001b[0m \u001b[0misinstance\u001b[0m\u001b[1;33m(\u001b[0m\u001b[0mpath\u001b[0m\u001b[1;33m,\u001b[0m \u001b[0mstr\u001b[0m\u001b[1;33m)\u001b[0m\u001b[1;33m:\u001b[0m\u001b[1;33m\u001b[0m\u001b[1;33m\u001b[0m\u001b[0m\n\u001b[1;32m--> 186\u001b[1;33m             \u001b[0mself\u001b[0m\u001b[1;33m.\u001b[0m\u001b[0mdata\u001b[0m \u001b[1;33m=\u001b[0m \u001b[0mh5py\u001b[0m\u001b[1;33m.\u001b[0m\u001b[0mFile\u001b[0m\u001b[1;33m(\u001b[0m\u001b[0mpath\u001b[0m\u001b[1;33m,\u001b[0m \u001b[0mmode\u001b[0m\u001b[1;33m=\u001b[0m\u001b[0mmode\u001b[0m\u001b[1;33m)\u001b[0m\u001b[1;33m\u001b[0m\u001b[1;33m\u001b[0m\u001b[0m\n\u001b[0m\u001b[0;32m    187\u001b[0m             \u001b[0mself\u001b[0m\u001b[1;33m.\u001b[0m\u001b[0m_is_file\u001b[0m \u001b[1;33m=\u001b[0m \u001b[1;32mTrue\u001b[0m\u001b[1;33m\u001b[0m\u001b[1;33m\u001b[0m\u001b[0m\n\u001b[0;32m    188\u001b[0m         \u001b[1;32melif\u001b[0m \u001b[0misinstance\u001b[0m\u001b[1;33m(\u001b[0m\u001b[0mpath\u001b[0m\u001b[1;33m,\u001b[0m \u001b[0mdict\u001b[0m\u001b[1;33m)\u001b[0m\u001b[1;33m:\u001b[0m\u001b[1;33m\u001b[0m\u001b[1;33m\u001b[0m\u001b[0m\n",
      "\u001b[1;32mC:\\AN\\lib\\site-packages\\h5py\\_hl\\files.py\u001b[0m in \u001b[0;36m__init__\u001b[1;34m(self, name, mode, driver, libver, userblock_size, swmr, rdcc_nslots, rdcc_nbytes, rdcc_w0, track_order, **kwds)\u001b[0m\n\u001b[0;32m    392\u001b[0m                 fid = make_fid(name, mode, userblock_size,\n\u001b[0;32m    393\u001b[0m                                \u001b[0mfapl\u001b[0m\u001b[1;33m,\u001b[0m \u001b[0mfcpl\u001b[0m\u001b[1;33m=\u001b[0m\u001b[0mmake_fcpl\u001b[0m\u001b[1;33m(\u001b[0m\u001b[0mtrack_order\u001b[0m\u001b[1;33m=\u001b[0m\u001b[0mtrack_order\u001b[0m\u001b[1;33m)\u001b[0m\u001b[1;33m,\u001b[0m\u001b[1;33m\u001b[0m\u001b[1;33m\u001b[0m\u001b[0m\n\u001b[1;32m--> 394\u001b[1;33m                                swmr=swmr)\n\u001b[0m\u001b[0;32m    395\u001b[0m \u001b[1;33m\u001b[0m\u001b[0m\n\u001b[0;32m    396\u001b[0m             \u001b[1;32mif\u001b[0m \u001b[0mswmr_support\u001b[0m\u001b[1;33m:\u001b[0m\u001b[1;33m\u001b[0m\u001b[1;33m\u001b[0m\u001b[0m\n",
      "\u001b[1;32mC:\\AN\\lib\\site-packages\\h5py\\_hl\\files.py\u001b[0m in \u001b[0;36mmake_fid\u001b[1;34m(name, mode, userblock_size, fapl, fcpl, swmr)\u001b[0m\n\u001b[0;32m    174\u001b[0m         \u001b[0mfid\u001b[0m \u001b[1;33m=\u001b[0m \u001b[0mh5f\u001b[0m\u001b[1;33m.\u001b[0m\u001b[0mcreate\u001b[0m\u001b[1;33m(\u001b[0m\u001b[0mname\u001b[0m\u001b[1;33m,\u001b[0m \u001b[0mh5f\u001b[0m\u001b[1;33m.\u001b[0m\u001b[0mACC_EXCL\u001b[0m\u001b[1;33m,\u001b[0m \u001b[0mfapl\u001b[0m\u001b[1;33m=\u001b[0m\u001b[0mfapl\u001b[0m\u001b[1;33m,\u001b[0m \u001b[0mfcpl\u001b[0m\u001b[1;33m=\u001b[0m\u001b[0mfcpl\u001b[0m\u001b[1;33m)\u001b[0m\u001b[1;33m\u001b[0m\u001b[1;33m\u001b[0m\u001b[0m\n\u001b[0;32m    175\u001b[0m     \u001b[1;32melif\u001b[0m \u001b[0mmode\u001b[0m \u001b[1;33m==\u001b[0m \u001b[1;34m'w'\u001b[0m\u001b[1;33m:\u001b[0m\u001b[1;33m\u001b[0m\u001b[1;33m\u001b[0m\u001b[0m\n\u001b[1;32m--> 176\u001b[1;33m         \u001b[0mfid\u001b[0m \u001b[1;33m=\u001b[0m \u001b[0mh5f\u001b[0m\u001b[1;33m.\u001b[0m\u001b[0mcreate\u001b[0m\u001b[1;33m(\u001b[0m\u001b[0mname\u001b[0m\u001b[1;33m,\u001b[0m \u001b[0mh5f\u001b[0m\u001b[1;33m.\u001b[0m\u001b[0mACC_TRUNC\u001b[0m\u001b[1;33m,\u001b[0m \u001b[0mfapl\u001b[0m\u001b[1;33m=\u001b[0m\u001b[0mfapl\u001b[0m\u001b[1;33m,\u001b[0m \u001b[0mfcpl\u001b[0m\u001b[1;33m=\u001b[0m\u001b[0mfcpl\u001b[0m\u001b[1;33m)\u001b[0m\u001b[1;33m\u001b[0m\u001b[1;33m\u001b[0m\u001b[0m\n\u001b[0m\u001b[0;32m    177\u001b[0m     \u001b[1;32melif\u001b[0m \u001b[0mmode\u001b[0m \u001b[1;33m==\u001b[0m \u001b[1;34m'a'\u001b[0m\u001b[1;33m:\u001b[0m\u001b[1;33m\u001b[0m\u001b[1;33m\u001b[0m\u001b[0m\n\u001b[0;32m    178\u001b[0m         \u001b[1;31m# Open in append mode (read/write).\u001b[0m\u001b[1;33m\u001b[0m\u001b[1;33m\u001b[0m\u001b[1;33m\u001b[0m\u001b[0m\n",
      "\u001b[1;32mh5py\\_objects.pyx\u001b[0m in \u001b[0;36mh5py._objects.with_phil.wrapper\u001b[1;34m()\u001b[0m\n",
      "\u001b[1;32mh5py\\_objects.pyx\u001b[0m in \u001b[0;36mh5py._objects.with_phil.wrapper\u001b[1;34m()\u001b[0m\n",
      "\u001b[1;32mh5py\\h5f.pyx\u001b[0m in \u001b[0;36mh5py.h5f.create\u001b[1;34m()\u001b[0m\n",
      "\u001b[1;31mOSError\u001b[0m: Unable to create file (unable to open file: name = './CNN_cifar10_adam_model_2/07-1.2078.hdf5', errno = 2, error message = 'No such file or directory', flags = 13, o_flags = 302)"
     ]
    }
   ],
   "source": [
    "history2 = model2.fit(X_train, y_train, batch_size=50, epochs=50, validation_data=[X_test, y_test],\n",
    "          verbose=1, callbacks=[early_stopping_callback, checkpoint])"
   ]
  },
  {
   "cell_type": "code",
   "execution_count": null,
   "metadata": {},
   "outputs": [],
   "source": []
  }
 ],
 "metadata": {
  "kernelspec": {
   "display_name": "Python 3",
   "language": "python",
   "name": "python3"
  },
  "language_info": {
   "codemirror_mode": {
    "name": "ipython",
    "version": 3
   },
   "file_extension": ".py",
   "mimetype": "text/x-python",
   "name": "python",
   "nbconvert_exporter": "python",
   "pygments_lexer": "ipython3",
   "version": "3.7.3"
  }
 },
 "nbformat": 4,
 "nbformat_minor": 2
}
