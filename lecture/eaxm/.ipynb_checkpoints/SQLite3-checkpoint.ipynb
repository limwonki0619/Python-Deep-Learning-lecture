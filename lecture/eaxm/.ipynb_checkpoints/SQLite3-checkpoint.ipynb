{
 "cells": [
  {
   "cell_type": "markdown",
   "metadata": {},
   "source": [
    "# SQLite3 - basic"
   ]
  },
  {
   "cell_type": "markdown",
   "metadata": {},
   "source": [
    "## 1. 데이터베이스 접속\n",
    "\n",
    "- SQLite3 Expert Personal 실행\n",
    "- 새로운 데이터 베이스 생성 "
   ]
  },
  {
   "cell_type": "code",
   "execution_count": 1,
   "metadata": {},
   "outputs": [],
   "source": [
    "import pandas as pd\n",
    "import numpy as np\n",
    "import sqlite3\n",
    "\n",
    "conn = sqlite3.connect('./test.db')  # 데이터베이스 접속"
   ]
  },
  {
   "cell_type": "markdown",
   "metadata": {},
   "source": [
    "## 2. 테이블 생성"
   ]
  },
  {
   "cell_type": "code",
   "execution_count": 25,
   "metadata": {},
   "outputs": [
    {
     "data": {
      "text/plain": [
       "<sqlite3.Cursor at 0x8ab56c0>"
      ]
     },
     "execution_count": 25,
     "metadata": {},
     "output_type": "execute_result"
    }
   ],
   "source": [
    "cur = conn.cursor()\n",
    "cur.execute('CREATE TABLE IF NOT EXISTS wonki \\\n",
    "            (back_no INT NOT NULL, \\\n",
    "            name TEXT, \\\n",
    "            position TEXT,\\\n",
    "            hands TEXT, \\\n",
    "            highschool TEXT, \\\n",
    "            height INT, \\\n",
    "            PRIMARY KEY(back_no));')"
   ]
  },
  {
   "cell_type": "markdown",
   "metadata": {},
   "source": [
    "## 3. 데이터 추가 : Insert"
   ]
  },
  {
   "cell_type": "code",
   "execution_count": 31,
   "metadata": {},
   "outputs": [],
   "source": [
    "cur = conn.cursor()\n",
    "\n",
    "cur.execute(\"INSERT INTO wonki VALUES (4, '임원기', '외야수', '우투좌타', '신일고', 200)\");\n",
    "    \n",
    "conn.commit()"
   ]
  },
  {
   "cell_type": "markdown",
   "metadata": {},
   "source": [
    "## 4. 파이썬으로 데이터 베이스에 있는 데이터 읽기 "
   ]
  },
  {
   "cell_type": "code",
   "execution_count": 32,
   "metadata": {},
   "outputs": [
    {
     "data": {
      "text/plain": [
       "[(2, '김영진', '외야수', '우투좌타', '신일고', 200),\n",
       " (19, '류경민', '내야수', '좌투좌타', '충암고', 200),\n",
       " (4, '임원기', '외야수', '우투좌타', '신일고', 200),\n",
       " (1, '하주석', '내야수', '우투좌타', '신일고', 184),\n",
       " (28, '양성우', '외야수', '우투좌타', '충암고', 177)]"
      ]
     },
     "execution_count": 32,
     "metadata": {},
     "output_type": "execute_result"
    }
   ],
   "source": [
    "cur = conn.cursor()\n",
    "cur.execute('SELECT * FROM wonki ORDER BY height DESC') # 키 순서대로 정렬 \n",
    "cur.fetchall() # 모두 조회 "
   ]
  },
  {
   "cell_type": "markdown",
   "metadata": {},
   "source": [
    "## 5. 데이터 병합"
   ]
  },
  {
   "cell_type": "markdown",
   "metadata": {},
   "source": [
    "### stats 테이블 생성"
   ]
  },
  {
   "cell_type": "code",
   "execution_count": 21,
   "metadata": {},
   "outputs": [
    {
     "data": {
      "text/plain": [
       "<sqlite3.Cursor at 0x5afba40>"
      ]
     },
     "execution_count": 21,
     "metadata": {},
     "output_type": "execute_result"
    }
   ],
   "source": [
    "# 테이블 생성 \n",
    "\n",
    "cur = conn.cursor()\n",
    "cur.execute('CREATE TABLE IF NOT EXISTS stats \\\n",
    "    (id INT NOT NULL, \\\n",
    "     player TEXT, \\\n",
    "     average REAL, \\\n",
    "     rbi INT, \\\n",
    "     homerun INT, \\\n",
    "     PRIMARY KEY(id));')"
   ]
  },
  {
   "cell_type": "markdown",
   "metadata": {},
   "source": [
    "### stats 데이터 확인"
   ]
  },
  {
   "cell_type": "code",
   "execution_count": 33,
   "metadata": {},
   "outputs": [
    {
     "data": {
      "text/html": [
       "<div>\n",
       "<style scoped>\n",
       "    .dataframe tbody tr th:only-of-type {\n",
       "        vertical-align: middle;\n",
       "    }\n",
       "\n",
       "    .dataframe tbody tr th {\n",
       "        vertical-align: top;\n",
       "    }\n",
       "\n",
       "    .dataframe thead th {\n",
       "        text-align: right;\n",
       "    }\n",
       "</style>\n",
       "<table border=\"1\" class=\"dataframe\">\n",
       "  <thead>\n",
       "    <tr style=\"text-align: right;\">\n",
       "      <th></th>\n",
       "      <th>player</th>\n",
       "      <th>average</th>\n",
       "      <th>rbi</th>\n",
       "      <th>homerun</th>\n",
       "    </tr>\n",
       "  </thead>\n",
       "  <tbody>\n",
       "    <tr>\n",
       "      <th>0</th>\n",
       "      <td>호잉</td>\n",
       "      <td>0.288</td>\n",
       "      <td>58</td>\n",
       "      <td>15</td>\n",
       "    </tr>\n",
       "    <tr>\n",
       "      <th>1</th>\n",
       "      <td>양성우</td>\n",
       "      <td>0.176</td>\n",
       "      <td>6</td>\n",
       "      <td>1</td>\n",
       "    </tr>\n",
       "    <tr>\n",
       "      <th>2</th>\n",
       "      <td>최재훈</td>\n",
       "      <td>0.300</td>\n",
       "      <td>23</td>\n",
       "      <td>2</td>\n",
       "    </tr>\n",
       "    <tr>\n",
       "      <th>3</th>\n",
       "      <td>김태균</td>\n",
       "      <td>0.308</td>\n",
       "      <td>43</td>\n",
       "      <td>5</td>\n",
       "    </tr>\n",
       "    <tr>\n",
       "      <th>4</th>\n",
       "      <td>송광민</td>\n",
       "      <td>0.257</td>\n",
       "      <td>39</td>\n",
       "      <td>6</td>\n",
       "    </tr>\n",
       "    <tr>\n",
       "      <th>5</th>\n",
       "      <td>이성열</td>\n",
       "      <td>0.255</td>\n",
       "      <td>62</td>\n",
       "      <td>18</td>\n",
       "    </tr>\n",
       "    <tr>\n",
       "      <th>6</th>\n",
       "      <td>정은원</td>\n",
       "      <td>0.281</td>\n",
       "      <td>47</td>\n",
       "      <td>5</td>\n",
       "    </tr>\n",
       "    <tr>\n",
       "      <th>7</th>\n",
       "      <td>정근우</td>\n",
       "      <td>0.219</td>\n",
       "      <td>10</td>\n",
       "      <td>2</td>\n",
       "    </tr>\n",
       "    <tr>\n",
       "      <th>8</th>\n",
       "      <td>최진행</td>\n",
       "      <td>0.184</td>\n",
       "      <td>14</td>\n",
       "      <td>3</td>\n",
       "    </tr>\n",
       "  </tbody>\n",
       "</table>\n",
       "</div>"
      ],
      "text/plain": [
       "  player  average  rbi  homerun\n",
       "0     호잉    0.288   58       15\n",
       "1    양성우    0.176    6        1\n",
       "2    최재훈    0.300   23        2\n",
       "3    김태균    0.308   43        5\n",
       "4    송광민    0.257   39        6\n",
       "5    이성열    0.255   62       18\n",
       "6    정은원    0.281   47        5\n",
       "7    정근우    0.219   10        2\n",
       "8    최진행    0.184   14        3"
      ]
     },
     "execution_count": 33,
     "metadata": {},
     "output_type": "execute_result"
    }
   ],
   "source": [
    "stats = pd.read_csv('./stats.csv', encoding='EUC-KR')\n",
    "stats"
   ]
  },
  {
   "cell_type": "markdown",
   "metadata": {},
   "source": [
    "### stats 데이터, 데이터베이스에 추가"
   ]
  },
  {
   "cell_type": "code",
   "execution_count": 46,
   "metadata": {},
   "outputs": [],
   "source": [
    "cur = conn.cursor()\n",
    "sql = 'INSERT INTO stats VALUES (?, ?, ?, ?, ?);'\n",
    "\n",
    "for i in range(1, len(stats)+1):\n",
    "    cur.execute(sql, (i, *stats.values[i-1]))\n",
    "conn.commit()"
   ]
  },
  {
   "cell_type": "markdown",
   "metadata": {},
   "source": [
    "### SQL문으로 병합하고 데이터 불러오기"
   ]
  },
  {
   "cell_type": "code",
   "execution_count": 52,
   "metadata": {},
   "outputs": [
    {
     "data": {
      "text/plain": [
       "[(28, '양성우', '외야수', 0.176, 6, 1)]"
      ]
     },
     "execution_count": 52,
     "metadata": {},
     "output_type": "execute_result"
    }
   ],
   "source": [
    "sql = \"SELECT e.back_no, e.name, e.position, \\\n",
    "        round(s.average, 3), s.rbi, s.homerun \\\n",
    "        FROM wonki AS e JOIN stats AS s \\\n",
    "        ON e.name like s.player;\"\n",
    "\n",
    "cur = conn.cursor()\n",
    "cur.execute(sql)\n",
    "rows = cur.fetchall()\n",
    "rows "
   ]
  },
  {
   "cell_type": "markdown",
   "metadata": {},
   "source": [
    "### 병합 결과를 데이터 프레임으로 생성하기"
   ]
  },
  {
   "cell_type": "code",
   "execution_count": 53,
   "metadata": {},
   "outputs": [
    {
     "data": {
      "text/html": [
       "<div>\n",
       "<style scoped>\n",
       "    .dataframe tbody tr th:only-of-type {\n",
       "        vertical-align: middle;\n",
       "    }\n",
       "\n",
       "    .dataframe tbody tr th {\n",
       "        vertical-align: top;\n",
       "    }\n",
       "\n",
       "    .dataframe thead th {\n",
       "        text-align: right;\n",
       "    }\n",
       "</style>\n",
       "<table border=\"1\" class=\"dataframe\">\n",
       "  <thead>\n",
       "    <tr style=\"text-align: right;\">\n",
       "      <th></th>\n",
       "      <th>등번호</th>\n",
       "      <th>선수명</th>\n",
       "      <th>포지션</th>\n",
       "      <th>타율</th>\n",
       "      <th>타점</th>\n",
       "      <th>홈런</th>\n",
       "    </tr>\n",
       "  </thead>\n",
       "  <tbody>\n",
       "    <tr>\n",
       "      <th>0</th>\n",
       "      <td>28</td>\n",
       "      <td>양성우</td>\n",
       "      <td>외야수</td>\n",
       "      <td>0.176</td>\n",
       "      <td>6</td>\n",
       "      <td>1</td>\n",
       "    </tr>\n",
       "  </tbody>\n",
       "</table>\n",
       "</div>"
      ],
      "text/plain": [
       "   등번호  선수명  포지션     타율  타점  홈런\n",
       "0   28  양성우  외야수  0.176   6   1"
      ]
     },
     "execution_count": 53,
     "metadata": {},
     "output_type": "execute_result"
    }
   ],
   "source": [
    "colName =  ['등번호', '선수명', '포지션', '타율', '타점', '홈런']\n",
    "\n",
    "df = pd.DataFrame(rows, columns = colName)\n",
    "df"
   ]
  },
  {
   "cell_type": "markdown",
   "metadata": {},
   "source": [
    "### 데이터베이스 종료하기"
   ]
  },
  {
   "cell_type": "code",
   "execution_count": 54,
   "metadata": {},
   "outputs": [],
   "source": [
    "conn.close()"
   ]
  },
  {
   "cell_type": "markdown",
   "metadata": {},
   "source": [
    "# SQLite3 - 연습문제 1\n",
    "\n",
    "투수들의 기록중에서 평균자책점(ERA), 투구인닝(IP), 탈삼진(SO) 기록을 찾아서 Pitcher_stats 란 테이블을 만들고, Eagles 테이블과 Join 하여 백넘버, 선수명, 포지션, 투구인닝, 평균자책점, 탈삼진 필드를 갖는 데이터 프레임을 만들어서 Join 한 결과를 입력하고, 그 결과를 보이시오."
   ]
  },
  {
   "cell_type": "markdown",
   "metadata": {},
   "source": [
    "#### Ealges 테이블"
   ]
  },
  {
   "cell_type": "code",
   "execution_count": 1,
   "metadata": {},
   "outputs": [],
   "source": [
    "import pandas as pd\n",
    "import numpy as np\n",
    "import sqlite3\n",
    "\n",
    "conn = sqlite3.connect('./test.db')  # 새로운 데이터베이스 접속"
   ]
  },
  {
   "cell_type": "code",
   "execution_count": 93,
   "metadata": {},
   "outputs": [
    {
     "data": {
      "text/plain": [
       "<sqlite3.Cursor at 0x8fe6500>"
      ]
     },
     "execution_count": 93,
     "metadata": {},
     "output_type": "execute_result"
    }
   ],
   "source": [
    "cur = conn.cursor()\n",
    "cur.execute('CREATE TABLE IF NOT EXISTS Eagles \\\n",
    "            (back_no INT NOT NULL, \\\n",
    "            name TEXT, \\\n",
    "            position TEXT,\\\n",
    "            hands TEXT, \\\n",
    "            highschool TEXT, \\\n",
    "            height INT, \\\n",
    "            PRIMARY KEY(back_no));')"
   ]
  },
  {
   "cell_type": "code",
   "execution_count": 94,
   "metadata": {},
   "outputs": [
    {
     "data": {
      "text/html": [
       "<div>\n",
       "<style scoped>\n",
       "    .dataframe tbody tr th:only-of-type {\n",
       "        vertical-align: middle;\n",
       "    }\n",
       "\n",
       "    .dataframe tbody tr th {\n",
       "        vertical-align: top;\n",
       "    }\n",
       "\n",
       "    .dataframe thead th {\n",
       "        text-align: right;\n",
       "    }\n",
       "</style>\n",
       "<table border=\"1\" class=\"dataframe\">\n",
       "  <thead>\n",
       "    <tr style=\"text-align: right;\">\n",
       "      <th></th>\n",
       "      <th>back_no</th>\n",
       "      <th>name</th>\n",
       "      <th>position</th>\n",
       "      <th>hands</th>\n",
       "      <th>highschool</th>\n",
       "      <th>height</th>\n",
       "    </tr>\n",
       "  </thead>\n",
       "  <tbody>\n",
       "    <tr>\n",
       "      <th>0</th>\n",
       "      <td>17</td>\n",
       "      <td>김범수</td>\n",
       "      <td>투수</td>\n",
       "      <td>좌투좌타</td>\n",
       "      <td>천안북일고</td>\n",
       "      <td>181</td>\n",
       "    </tr>\n",
       "    <tr>\n",
       "      <th>1</th>\n",
       "      <td>38</td>\n",
       "      <td>안영명</td>\n",
       "      <td>투수</td>\n",
       "      <td>우투우타</td>\n",
       "      <td>천안북일고</td>\n",
       "      <td>183</td>\n",
       "    </tr>\n",
       "    <tr>\n",
       "      <th>2</th>\n",
       "      <td>36</td>\n",
       "      <td>장민재</td>\n",
       "      <td>투수</td>\n",
       "      <td>우투우타</td>\n",
       "      <td>광주제일고</td>\n",
       "      <td>184</td>\n",
       "    </tr>\n",
       "    <tr>\n",
       "      <th>3</th>\n",
       "      <td>13</td>\n",
       "      <td>최재훈</td>\n",
       "      <td>포수</td>\n",
       "      <td>우투우타</td>\n",
       "      <td>덕수고</td>\n",
       "      <td>178</td>\n",
       "    </tr>\n",
       "    <tr>\n",
       "      <th>4</th>\n",
       "      <td>52</td>\n",
       "      <td>김태균</td>\n",
       "      <td>내야수</td>\n",
       "      <td>우투우타</td>\n",
       "      <td>천안북일고</td>\n",
       "      <td>185</td>\n",
       "    </tr>\n",
       "  </tbody>\n",
       "</table>\n",
       "</div>"
      ],
      "text/plain": [
       "   back_no name position hands highschool  height\n",
       "0       17  김범수       투수  좌투좌타      천안북일고     181\n",
       "1       38  안영명       투수  우투우타      천안북일고     183\n",
       "2       36  장민재       투수  우투우타      광주제일고     184\n",
       "3       13  최재훈       포수  우투우타        덕수고     178\n",
       "4       52  김태균      내야수  우투우타      천안북일고     185"
      ]
     },
     "execution_count": 94,
     "metadata": {},
     "output_type": "execute_result"
    }
   ],
   "source": [
    "players = pd.read_csv('players.csv', encoding='EUC-KR')\n",
    "players.head()"
   ]
  },
  {
   "cell_type": "code",
   "execution_count": 107,
   "metadata": {},
   "outputs": [],
   "source": [
    "cur = conn.cursor()\n",
    "sql = 'INSERT INTO Eagles VALUES (?, ?, ?, ?, ?, ?);'\n",
    "\n",
    "for i in range(len(players)):\n",
    "    cur.execute(sql, players.values[i])\n",
    "    \n",
    "conn.commit()"
   ]
  },
  {
   "cell_type": "markdown",
   "metadata": {},
   "source": [
    "#### pitchers_stats 테이블 "
   ]
  },
  {
   "cell_type": "code",
   "execution_count": 2,
   "metadata": {},
   "outputs": [
    {
     "data": {
      "text/plain": [
       "<sqlite3.Cursor at 0x8c0b9d0>"
      ]
     },
     "execution_count": 2,
     "metadata": {},
     "output_type": "execute_result"
    }
   ],
   "source": [
    "cur = conn.cursor()\n",
    "cur.execute('CREATE TABLE IF NOT EXISTS Pitchers_stats \\\n",
    "            (back_no INT NOT NULL, \\\n",
    "            player TEXT, \\\n",
    "            ERA REAL, \\\n",
    "            IP REAL, \\\n",
    "            SO INT, \\\n",
    "            PRIMARY KEY(back_no));')"
   ]
  },
  {
   "cell_type": "code",
   "execution_count": 3,
   "metadata": {},
   "outputs": [
    {
     "data": {
      "text/html": [
       "<div>\n",
       "<style scoped>\n",
       "    .dataframe tbody tr th:only-of-type {\n",
       "        vertical-align: middle;\n",
       "    }\n",
       "\n",
       "    .dataframe tbody tr th {\n",
       "        vertical-align: top;\n",
       "    }\n",
       "\n",
       "    .dataframe thead th {\n",
       "        text-align: right;\n",
       "    }\n",
       "</style>\n",
       "<table border=\"1\" class=\"dataframe\">\n",
       "  <thead>\n",
       "    <tr style=\"text-align: right;\">\n",
       "      <th></th>\n",
       "      <th>back_no</th>\n",
       "      <th>player</th>\n",
       "      <th>ERA</th>\n",
       "      <th>IP</th>\n",
       "      <th>SO</th>\n",
       "    </tr>\n",
       "  </thead>\n",
       "  <tbody>\n",
       "    <tr>\n",
       "      <th>0</th>\n",
       "      <td>17</td>\n",
       "      <td>김범수</td>\n",
       "      <td>5.67</td>\n",
       "      <td>81.00</td>\n",
       "      <td>65</td>\n",
       "    </tr>\n",
       "    <tr>\n",
       "      <th>1</th>\n",
       "      <td>38</td>\n",
       "      <td>안영명</td>\n",
       "      <td>3.43</td>\n",
       "      <td>44.67</td>\n",
       "      <td>35</td>\n",
       "    </tr>\n",
       "    <tr>\n",
       "      <th>2</th>\n",
       "      <td>36</td>\n",
       "      <td>장민재</td>\n",
       "      <td>4.81</td>\n",
       "      <td>91.67</td>\n",
       "      <td>84</td>\n",
       "    </tr>\n",
       "  </tbody>\n",
       "</table>\n",
       "</div>"
      ],
      "text/plain": [
       "   back_no player   ERA     IP  SO\n",
       "0       17    김범수  5.67  81.00  65\n",
       "1       38    안영명  3.43  44.67  35\n",
       "2       36    장민재  4.81  91.67  84"
      ]
     },
     "execution_count": 3,
     "metadata": {},
     "output_type": "execute_result"
    }
   ],
   "source": [
    "pitcher = pd.read_csv('pitcher.csv', encoding='EUC-KR')\n",
    "pitcher"
   ]
  },
  {
   "cell_type": "code",
   "execution_count": 4,
   "metadata": {},
   "outputs": [],
   "source": [
    "cur = conn.cursor()\n",
    "sql = 'INSERT INTO Pitchers_stats VALUES (?, ?, ?, ?, ?);'\n",
    "\n",
    "for i in range(len(pitcher)):\n",
    "    cur.execute(sql, pitcher.values[i])\n",
    "    \n",
    "conn.commit()"
   ]
  },
  {
   "cell_type": "code",
   "execution_count": 5,
   "metadata": {},
   "outputs": [],
   "source": [
    "# 데이터 병합 후 데이터 확인해보기\n",
    "\n",
    "sql = \"SELECT e.back_no, e.name, e.position, \\\n",
    "        round(s.ERA, 3), s.IP, s.SO \\\n",
    "        FROM Eagles AS e JOIN Pitchers_stats AS s \\\n",
    "        ON e.name like s.player;\"\n",
    "\n",
    "cur = conn.cursor()\n",
    "cur.execute(sql)\n",
    "\n",
    "rows = cur.fetchall()"
   ]
  },
  {
   "cell_type": "code",
   "execution_count": 6,
   "metadata": {},
   "outputs": [
    {
     "data": {
      "text/html": [
       "<div>\n",
       "<style scoped>\n",
       "    .dataframe tbody tr th:only-of-type {\n",
       "        vertical-align: middle;\n",
       "    }\n",
       "\n",
       "    .dataframe tbody tr th {\n",
       "        vertical-align: top;\n",
       "    }\n",
       "\n",
       "    .dataframe thead th {\n",
       "        text-align: right;\n",
       "    }\n",
       "</style>\n",
       "<table border=\"1\" class=\"dataframe\">\n",
       "  <thead>\n",
       "    <tr style=\"text-align: right;\">\n",
       "      <th></th>\n",
       "      <th>백넘버</th>\n",
       "      <th>선수명</th>\n",
       "      <th>포지션</th>\n",
       "      <th>투구이닝</th>\n",
       "      <th>평균자책점</th>\n",
       "      <th>탈삼진</th>\n",
       "    </tr>\n",
       "  </thead>\n",
       "  <tbody>\n",
       "    <tr>\n",
       "      <th>0</th>\n",
       "      <td>17</td>\n",
       "      <td>김범수</td>\n",
       "      <td>투수</td>\n",
       "      <td>5.67</td>\n",
       "      <td>81.00</td>\n",
       "      <td>65</td>\n",
       "    </tr>\n",
       "    <tr>\n",
       "      <th>1</th>\n",
       "      <td>38</td>\n",
       "      <td>안영명</td>\n",
       "      <td>투수</td>\n",
       "      <td>3.43</td>\n",
       "      <td>44.67</td>\n",
       "      <td>35</td>\n",
       "    </tr>\n",
       "    <tr>\n",
       "      <th>2</th>\n",
       "      <td>36</td>\n",
       "      <td>장민재</td>\n",
       "      <td>투수</td>\n",
       "      <td>4.81</td>\n",
       "      <td>91.67</td>\n",
       "      <td>84</td>\n",
       "    </tr>\n",
       "  </tbody>\n",
       "</table>\n",
       "</div>"
      ],
      "text/plain": [
       "   백넘버  선수명 포지션  투구이닝  평균자책점  탈삼진\n",
       "0   17  김범수  투수  5.67  81.00   65\n",
       "1   38  안영명  투수  3.43  44.67   35\n",
       "2   36  장민재  투수  4.81  91.67   84"
      ]
     },
     "execution_count": 6,
     "metadata": {},
     "output_type": "execute_result"
    }
   ],
   "source": [
    "colname = ['백넘버', '선수명', '포지션', '투구이닝', '평균자책점', '탈삼진']\n",
    "df = pd.DataFrame(rows, columns = colname)\n",
    "df"
   ]
  }
 ],
 "metadata": {
  "kernelspec": {
   "display_name": "Python 3",
   "language": "python",
   "name": "python3"
  },
  "language_info": {
   "codemirror_mode": {
    "name": "ipython",
    "version": 3
   },
   "file_extension": ".py",
   "mimetype": "text/x-python",
   "name": "python",
   "nbconvert_exporter": "python",
   "pygments_lexer": "ipython3",
   "version": "3.7.3"
  }
 },
 "nbformat": 4,
 "nbformat_minor": 2
}
